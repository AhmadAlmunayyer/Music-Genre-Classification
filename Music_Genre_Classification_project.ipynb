{
  "nbformat": 4,
  "nbformat_minor": 0,
  "metadata": {
    "colab": {
      "name": "Copy of Copy of Copy of Music Genre Classification project.ipynb",
      "provenance": [],
      "collapsed_sections": [
        "hbbsCwp6OrPu",
        "ohEylWjL_UQR",
        "Ek0W3T58PEEf",
        "nnTSIci2V6H_",
        "ggNA3VzrpSby"
      ]
    },
    "kernelspec": {
      "name": "python3",
      "display_name": "Python 3"
    },
    "language_info": {
      "name": "python"
    },
    "accelerator": "TPU",
    "gpuClass": "standard"
  },
  "cells": [
    {
      "cell_type": "markdown",
      "source": [
        "\n",
        "\n",
        "---\n",
        "\n",
        "# 1- Get the Data\n",
        "\n",
        "---\n",
        "\n",
        "\n"
      ],
      "metadata": {
        "id": "zlPPf9OTCv7M"
      }
    },
    {
      "cell_type": "code",
      "execution_count": 1,
      "metadata": {
        "id": "pvXjqvVHuzFR"
      },
      "outputs": [],
      "source": [
        "import numpy as np\n",
        "import pandas as pd\n",
        "import seaborn as sns\n",
        "import matplotlib.pyplot as plt\n",
        "from sklearn.preprocessing import StandardScaler\n",
        "from sklearn.model_selection import train_test_split\n",
        "from sklearn.model_selection import GridSearchCV\n",
        "from sklearn.pipeline import Pipeline\n",
        "from sklearn.ensemble import RandomForestClassifier\n",
        "from sklearn.linear_model import SGDClassifier\n",
        "from sklearn.naive_bayes import GaussianNB\n",
        "from sklearn.svm import SVC\n",
        "from sklearn.multiclass import OneVsRestClassifier\n",
        "from sklearn.neighbors import KNeighborsClassifier\n",
        "from sklearn.ensemble import VotingClassifier\n",
        "from sklearn.ensemble import StackingClassifier\n",
        "from sklearn.linear_model import LogisticRegression\n",
        "from sklearn.ensemble import GradientBoostingClassifier\n",
        "import xgboost\n",
        "from sklearn.metrics import f1_score"
      ]
    },
    {
      "cell_type": "markdown",
      "source": [
        "**Read train.csv as a dataframe called train.**\n",
        "\n",
        "**Read test.csv as a dataframe called test.**"
      ],
      "metadata": {
        "id": "0NiI7QbRC-ZZ"
      }
    },
    {
      "cell_type": "code",
      "source": [
        "train=pd.read_csv('/content/drive/MyDrive/final project level 1/train (1).csv')\n",
        "test=pd.read_csv('/content/drive/MyDrive/final project level 1/test (2).csv')"
      ],
      "metadata": {
        "id": "gugP37VTvemy"
      },
      "execution_count": 2,
      "outputs": []
    },
    {
      "cell_type": "markdown",
      "source": [
        "---\n",
        "\n",
        "#2- Discover and visualize the data\n",
        "\n",
        "---\n"
      ],
      "metadata": {
        "id": "obmKI5pQOetG"
      }
    },
    {
      "cell_type": "markdown",
      "source": [
        "## A- Data discovery"
      ],
      "metadata": {
        "id": "hbbsCwp6OrPu"
      }
    },
    {
      "cell_type": "markdown",
      "source": [
        "taking a look at the top five rows of train DataFrame using the DataFrame’s head() method"
      ],
      "metadata": {
        "id": "Td3tQ2-k8HB4"
      }
    },
    {
      "cell_type": "code",
      "source": [
        "train.head()"
      ],
      "metadata": {
        "colab": {
          "base_uri": "https://localhost:8080/",
          "height": 409
        },
        "id": "orBwuAISwrOh",
        "outputId": "b32389f8-ca3d-4e7a-a1b1-0a6ac5fd3eba"
      },
      "execution_count": 72,
      "outputs": [
        {
          "output_type": "execute_result",
          "data": {
            "text/plain": [
              "   Id          Artist Name       Track Name  Popularity  danceability  energy  \\\n",
              "0   1    Marina Maximilian       Not Afraid        37.0         0.334   0.536   \n",
              "1   2       The Black Keys  Howlin' for You        67.0         0.725   0.747   \n",
              "2   3  Royal & the Serpent          phuck u         NaN         0.584   0.804   \n",
              "3   4   Detroit Blues Band      Missing You        12.0         0.515   0.308   \n",
              "4   5         Coast Contra          My Lady        48.0         0.565   0.777   \n",
              "\n",
              "    key  loudness  mode  speechiness  acousticness  instrumentalness  \\\n",
              "0   9.0    -6.649     0       0.0381      0.378000               NaN   \n",
              "1  11.0    -5.545     1       0.0876      0.027200            0.0468   \n",
              "2   7.0    -6.094     1       0.0619      0.000968            0.6350   \n",
              "3   NaN   -14.711     1       0.0312      0.907000            0.0213   \n",
              "4   6.0    -5.096     0       0.2490      0.183000               NaN   \n",
              "\n",
              "   liveness  valence    tempo  duration_in min/ms  time_signature  Class  \n",
              "0     0.106    0.235  152.429            204947.0               4      9  \n",
              "1     0.104    0.380  132.921            191956.0               4      6  \n",
              "2     0.284    0.635  159.953            161037.0               4     10  \n",
              "3     0.300    0.501  172.472            298093.0               3      2  \n",
              "4     0.211    0.619   88.311            254145.0               4      5  "
            ],
            "text/html": [
              "\n",
              "  <div id=\"df-0f53573a-f217-4740-bd54-d9d5bd23d9f6\">\n",
              "    <div class=\"colab-df-container\">\n",
              "      <div>\n",
              "<style scoped>\n",
              "    .dataframe tbody tr th:only-of-type {\n",
              "        vertical-align: middle;\n",
              "    }\n",
              "\n",
              "    .dataframe tbody tr th {\n",
              "        vertical-align: top;\n",
              "    }\n",
              "\n",
              "    .dataframe thead th {\n",
              "        text-align: right;\n",
              "    }\n",
              "</style>\n",
              "<table border=\"1\" class=\"dataframe\">\n",
              "  <thead>\n",
              "    <tr style=\"text-align: right;\">\n",
              "      <th></th>\n",
              "      <th>Id</th>\n",
              "      <th>Artist Name</th>\n",
              "      <th>Track Name</th>\n",
              "      <th>Popularity</th>\n",
              "      <th>danceability</th>\n",
              "      <th>energy</th>\n",
              "      <th>key</th>\n",
              "      <th>loudness</th>\n",
              "      <th>mode</th>\n",
              "      <th>speechiness</th>\n",
              "      <th>acousticness</th>\n",
              "      <th>instrumentalness</th>\n",
              "      <th>liveness</th>\n",
              "      <th>valence</th>\n",
              "      <th>tempo</th>\n",
              "      <th>duration_in min/ms</th>\n",
              "      <th>time_signature</th>\n",
              "      <th>Class</th>\n",
              "    </tr>\n",
              "  </thead>\n",
              "  <tbody>\n",
              "    <tr>\n",
              "      <th>0</th>\n",
              "      <td>1</td>\n",
              "      <td>Marina Maximilian</td>\n",
              "      <td>Not Afraid</td>\n",
              "      <td>37.0</td>\n",
              "      <td>0.334</td>\n",
              "      <td>0.536</td>\n",
              "      <td>9.0</td>\n",
              "      <td>-6.649</td>\n",
              "      <td>0</td>\n",
              "      <td>0.0381</td>\n",
              "      <td>0.378000</td>\n",
              "      <td>NaN</td>\n",
              "      <td>0.106</td>\n",
              "      <td>0.235</td>\n",
              "      <td>152.429</td>\n",
              "      <td>204947.0</td>\n",
              "      <td>4</td>\n",
              "      <td>9</td>\n",
              "    </tr>\n",
              "    <tr>\n",
              "      <th>1</th>\n",
              "      <td>2</td>\n",
              "      <td>The Black Keys</td>\n",
              "      <td>Howlin' for You</td>\n",
              "      <td>67.0</td>\n",
              "      <td>0.725</td>\n",
              "      <td>0.747</td>\n",
              "      <td>11.0</td>\n",
              "      <td>-5.545</td>\n",
              "      <td>1</td>\n",
              "      <td>0.0876</td>\n",
              "      <td>0.027200</td>\n",
              "      <td>0.0468</td>\n",
              "      <td>0.104</td>\n",
              "      <td>0.380</td>\n",
              "      <td>132.921</td>\n",
              "      <td>191956.0</td>\n",
              "      <td>4</td>\n",
              "      <td>6</td>\n",
              "    </tr>\n",
              "    <tr>\n",
              "      <th>2</th>\n",
              "      <td>3</td>\n",
              "      <td>Royal &amp; the Serpent</td>\n",
              "      <td>phuck u</td>\n",
              "      <td>NaN</td>\n",
              "      <td>0.584</td>\n",
              "      <td>0.804</td>\n",
              "      <td>7.0</td>\n",
              "      <td>-6.094</td>\n",
              "      <td>1</td>\n",
              "      <td>0.0619</td>\n",
              "      <td>0.000968</td>\n",
              "      <td>0.6350</td>\n",
              "      <td>0.284</td>\n",
              "      <td>0.635</td>\n",
              "      <td>159.953</td>\n",
              "      <td>161037.0</td>\n",
              "      <td>4</td>\n",
              "      <td>10</td>\n",
              "    </tr>\n",
              "    <tr>\n",
              "      <th>3</th>\n",
              "      <td>4</td>\n",
              "      <td>Detroit Blues Band</td>\n",
              "      <td>Missing You</td>\n",
              "      <td>12.0</td>\n",
              "      <td>0.515</td>\n",
              "      <td>0.308</td>\n",
              "      <td>NaN</td>\n",
              "      <td>-14.711</td>\n",
              "      <td>1</td>\n",
              "      <td>0.0312</td>\n",
              "      <td>0.907000</td>\n",
              "      <td>0.0213</td>\n",
              "      <td>0.300</td>\n",
              "      <td>0.501</td>\n",
              "      <td>172.472</td>\n",
              "      <td>298093.0</td>\n",
              "      <td>3</td>\n",
              "      <td>2</td>\n",
              "    </tr>\n",
              "    <tr>\n",
              "      <th>4</th>\n",
              "      <td>5</td>\n",
              "      <td>Coast Contra</td>\n",
              "      <td>My Lady</td>\n",
              "      <td>48.0</td>\n",
              "      <td>0.565</td>\n",
              "      <td>0.777</td>\n",
              "      <td>6.0</td>\n",
              "      <td>-5.096</td>\n",
              "      <td>0</td>\n",
              "      <td>0.2490</td>\n",
              "      <td>0.183000</td>\n",
              "      <td>NaN</td>\n",
              "      <td>0.211</td>\n",
              "      <td>0.619</td>\n",
              "      <td>88.311</td>\n",
              "      <td>254145.0</td>\n",
              "      <td>4</td>\n",
              "      <td>5</td>\n",
              "    </tr>\n",
              "  </tbody>\n",
              "</table>\n",
              "</div>\n",
              "      <button class=\"colab-df-convert\" onclick=\"convertToInteractive('df-0f53573a-f217-4740-bd54-d9d5bd23d9f6')\"\n",
              "              title=\"Convert this dataframe to an interactive table.\"\n",
              "              style=\"display:none;\">\n",
              "        \n",
              "  <svg xmlns=\"http://www.w3.org/2000/svg\" height=\"24px\"viewBox=\"0 0 24 24\"\n",
              "       width=\"24px\">\n",
              "    <path d=\"M0 0h24v24H0V0z\" fill=\"none\"/>\n",
              "    <path d=\"M18.56 5.44l.94 2.06.94-2.06 2.06-.94-2.06-.94-.94-2.06-.94 2.06-2.06.94zm-11 1L8.5 8.5l.94-2.06 2.06-.94-2.06-.94L8.5 2.5l-.94 2.06-2.06.94zm10 10l.94 2.06.94-2.06 2.06-.94-2.06-.94-.94-2.06-.94 2.06-2.06.94z\"/><path d=\"M17.41 7.96l-1.37-1.37c-.4-.4-.92-.59-1.43-.59-.52 0-1.04.2-1.43.59L10.3 9.45l-7.72 7.72c-.78.78-.78 2.05 0 2.83L4 21.41c.39.39.9.59 1.41.59.51 0 1.02-.2 1.41-.59l7.78-7.78 2.81-2.81c.8-.78.8-2.07 0-2.86zM5.41 20L4 18.59l7.72-7.72 1.47 1.35L5.41 20z\"/>\n",
              "  </svg>\n",
              "      </button>\n",
              "      \n",
              "  <style>\n",
              "    .colab-df-container {\n",
              "      display:flex;\n",
              "      flex-wrap:wrap;\n",
              "      gap: 12px;\n",
              "    }\n",
              "\n",
              "    .colab-df-convert {\n",
              "      background-color: #E8F0FE;\n",
              "      border: none;\n",
              "      border-radius: 50%;\n",
              "      cursor: pointer;\n",
              "      display: none;\n",
              "      fill: #1967D2;\n",
              "      height: 32px;\n",
              "      padding: 0 0 0 0;\n",
              "      width: 32px;\n",
              "    }\n",
              "\n",
              "    .colab-df-convert:hover {\n",
              "      background-color: #E2EBFA;\n",
              "      box-shadow: 0px 1px 2px rgba(60, 64, 67, 0.3), 0px 1px 3px 1px rgba(60, 64, 67, 0.15);\n",
              "      fill: #174EA6;\n",
              "    }\n",
              "\n",
              "    [theme=dark] .colab-df-convert {\n",
              "      background-color: #3B4455;\n",
              "      fill: #D2E3FC;\n",
              "    }\n",
              "\n",
              "    [theme=dark] .colab-df-convert:hover {\n",
              "      background-color: #434B5C;\n",
              "      box-shadow: 0px 1px 3px 1px rgba(0, 0, 0, 0.15);\n",
              "      filter: drop-shadow(0px 1px 2px rgba(0, 0, 0, 0.3));\n",
              "      fill: #FFFFFF;\n",
              "    }\n",
              "  </style>\n",
              "\n",
              "      <script>\n",
              "        const buttonEl =\n",
              "          document.querySelector('#df-0f53573a-f217-4740-bd54-d9d5bd23d9f6 button.colab-df-convert');\n",
              "        buttonEl.style.display =\n",
              "          google.colab.kernel.accessAllowed ? 'block' : 'none';\n",
              "\n",
              "        async function convertToInteractive(key) {\n",
              "          const element = document.querySelector('#df-0f53573a-f217-4740-bd54-d9d5bd23d9f6');\n",
              "          const dataTable =\n",
              "            await google.colab.kernel.invokeFunction('convertToInteractive',\n",
              "                                                     [key], {});\n",
              "          if (!dataTable) return;\n",
              "\n",
              "          const docLinkHtml = 'Like what you see? Visit the ' +\n",
              "            '<a target=\"_blank\" href=https://colab.research.google.com/notebooks/data_table.ipynb>data table notebook</a>'\n",
              "            + ' to learn more about interactive tables.';\n",
              "          element.innerHTML = '';\n",
              "          dataTable['output_type'] = 'display_data';\n",
              "          await google.colab.output.renderOutput(dataTable, element);\n",
              "          const docLink = document.createElement('div');\n",
              "          docLink.innerHTML = docLinkHtml;\n",
              "          element.appendChild(docLink);\n",
              "        }\n",
              "      </script>\n",
              "    </div>\n",
              "  </div>\n",
              "  "
            ]
          },
          "metadata": {},
          "execution_count": 72
        }
      ]
    },
    {
      "cell_type": "markdown",
      "source": [
        "taking a look at the top five rows of test DataFrame using the DataFrame’s head() method"
      ],
      "metadata": {
        "id": "RNwRGKIK8JvP"
      }
    },
    {
      "cell_type": "code",
      "source": [
        "test.head()"
      ],
      "metadata": {
        "colab": {
          "base_uri": "https://localhost:8080/",
          "height": 409
        },
        "id": "R8s53TT3DUt4",
        "outputId": "1194b9f1-4b0f-4360-e90a-892c837331dc"
      },
      "execution_count": 73,
      "outputs": [
        {
          "output_type": "execute_result",
          "data": {
            "text/plain": [
              "      Id      Artist Name                    Track Name  Popularity  \\\n",
              "0  14397  Juan Pablo Vega  Matando (feat. Vic Mirallas)         NaN   \n",
              "1  14398        Kappi Kat                       Baarish        14.0   \n",
              "2  14399  Plain White T's             Hey There Delilah        80.0   \n",
              "3  14400    WALK THE MOON              Different Colors        52.0   \n",
              "4  14401            Peled                      ◊ß◊®◊ô◊ñ        23.0   \n",
              "\n",
              "   danceability  energy  key  loudness  mode  speechiness  acousticness  \\\n",
              "0         0.691   0.670  2.0    -7.093     0       0.0941      0.075700   \n",
              "1         0.461   0.777  2.0    -7.469     1       0.0306      0.388000   \n",
              "2         0.656   0.291  2.0   -10.572     1       0.0293      0.872000   \n",
              "3         0.480   0.826  NaN    -4.602     1       0.0397      0.000797   \n",
              "4         0.734   0.729  1.0    -6.381     0       0.2830      0.147000   \n",
              "\n",
              "   instrumentalness  liveness  valence    tempo  duration_in min/ms  \\\n",
              "0          0.035200    0.1970    0.635   89.965            200000.0   \n",
              "1          0.923000    0.2910    0.525  163.043            283909.0   \n",
              "2               NaN    0.1140    0.298  103.971            232533.0   \n",
              "3          0.000001    0.1250    0.687   96.000            222053.0   \n",
              "4               NaN    0.0672    0.805   76.030            118439.0   \n",
              "\n",
              "   time_signature  \n",
              "0               4  \n",
              "1               4  \n",
              "2               4  \n",
              "3               4  \n",
              "4               4  "
            ],
            "text/html": [
              "\n",
              "  <div id=\"df-18eb1e91-c904-4c66-a931-9afd1614a063\">\n",
              "    <div class=\"colab-df-container\">\n",
              "      <div>\n",
              "<style scoped>\n",
              "    .dataframe tbody tr th:only-of-type {\n",
              "        vertical-align: middle;\n",
              "    }\n",
              "\n",
              "    .dataframe tbody tr th {\n",
              "        vertical-align: top;\n",
              "    }\n",
              "\n",
              "    .dataframe thead th {\n",
              "        text-align: right;\n",
              "    }\n",
              "</style>\n",
              "<table border=\"1\" class=\"dataframe\">\n",
              "  <thead>\n",
              "    <tr style=\"text-align: right;\">\n",
              "      <th></th>\n",
              "      <th>Id</th>\n",
              "      <th>Artist Name</th>\n",
              "      <th>Track Name</th>\n",
              "      <th>Popularity</th>\n",
              "      <th>danceability</th>\n",
              "      <th>energy</th>\n",
              "      <th>key</th>\n",
              "      <th>loudness</th>\n",
              "      <th>mode</th>\n",
              "      <th>speechiness</th>\n",
              "      <th>acousticness</th>\n",
              "      <th>instrumentalness</th>\n",
              "      <th>liveness</th>\n",
              "      <th>valence</th>\n",
              "      <th>tempo</th>\n",
              "      <th>duration_in min/ms</th>\n",
              "      <th>time_signature</th>\n",
              "    </tr>\n",
              "  </thead>\n",
              "  <tbody>\n",
              "    <tr>\n",
              "      <th>0</th>\n",
              "      <td>14397</td>\n",
              "      <td>Juan Pablo Vega</td>\n",
              "      <td>Matando (feat. Vic Mirallas)</td>\n",
              "      <td>NaN</td>\n",
              "      <td>0.691</td>\n",
              "      <td>0.670</td>\n",
              "      <td>2.0</td>\n",
              "      <td>-7.093</td>\n",
              "      <td>0</td>\n",
              "      <td>0.0941</td>\n",
              "      <td>0.075700</td>\n",
              "      <td>0.035200</td>\n",
              "      <td>0.1970</td>\n",
              "      <td>0.635</td>\n",
              "      <td>89.965</td>\n",
              "      <td>200000.0</td>\n",
              "      <td>4</td>\n",
              "    </tr>\n",
              "    <tr>\n",
              "      <th>1</th>\n",
              "      <td>14398</td>\n",
              "      <td>Kappi Kat</td>\n",
              "      <td>Baarish</td>\n",
              "      <td>14.0</td>\n",
              "      <td>0.461</td>\n",
              "      <td>0.777</td>\n",
              "      <td>2.0</td>\n",
              "      <td>-7.469</td>\n",
              "      <td>1</td>\n",
              "      <td>0.0306</td>\n",
              "      <td>0.388000</td>\n",
              "      <td>0.923000</td>\n",
              "      <td>0.2910</td>\n",
              "      <td>0.525</td>\n",
              "      <td>163.043</td>\n",
              "      <td>283909.0</td>\n",
              "      <td>4</td>\n",
              "    </tr>\n",
              "    <tr>\n",
              "      <th>2</th>\n",
              "      <td>14399</td>\n",
              "      <td>Plain White T's</td>\n",
              "      <td>Hey There Delilah</td>\n",
              "      <td>80.0</td>\n",
              "      <td>0.656</td>\n",
              "      <td>0.291</td>\n",
              "      <td>2.0</td>\n",
              "      <td>-10.572</td>\n",
              "      <td>1</td>\n",
              "      <td>0.0293</td>\n",
              "      <td>0.872000</td>\n",
              "      <td>NaN</td>\n",
              "      <td>0.1140</td>\n",
              "      <td>0.298</td>\n",
              "      <td>103.971</td>\n",
              "      <td>232533.0</td>\n",
              "      <td>4</td>\n",
              "    </tr>\n",
              "    <tr>\n",
              "      <th>3</th>\n",
              "      <td>14400</td>\n",
              "      <td>WALK THE MOON</td>\n",
              "      <td>Different Colors</td>\n",
              "      <td>52.0</td>\n",
              "      <td>0.480</td>\n",
              "      <td>0.826</td>\n",
              "      <td>NaN</td>\n",
              "      <td>-4.602</td>\n",
              "      <td>1</td>\n",
              "      <td>0.0397</td>\n",
              "      <td>0.000797</td>\n",
              "      <td>0.000001</td>\n",
              "      <td>0.1250</td>\n",
              "      <td>0.687</td>\n",
              "      <td>96.000</td>\n",
              "      <td>222053.0</td>\n",
              "      <td>4</td>\n",
              "    </tr>\n",
              "    <tr>\n",
              "      <th>4</th>\n",
              "      <td>14401</td>\n",
              "      <td>Peled</td>\n",
              "      <td>◊ß◊®◊ô◊ñ</td>\n",
              "      <td>23.0</td>\n",
              "      <td>0.734</td>\n",
              "      <td>0.729</td>\n",
              "      <td>1.0</td>\n",
              "      <td>-6.381</td>\n",
              "      <td>0</td>\n",
              "      <td>0.2830</td>\n",
              "      <td>0.147000</td>\n",
              "      <td>NaN</td>\n",
              "      <td>0.0672</td>\n",
              "      <td>0.805</td>\n",
              "      <td>76.030</td>\n",
              "      <td>118439.0</td>\n",
              "      <td>4</td>\n",
              "    </tr>\n",
              "  </tbody>\n",
              "</table>\n",
              "</div>\n",
              "      <button class=\"colab-df-convert\" onclick=\"convertToInteractive('df-18eb1e91-c904-4c66-a931-9afd1614a063')\"\n",
              "              title=\"Convert this dataframe to an interactive table.\"\n",
              "              style=\"display:none;\">\n",
              "        \n",
              "  <svg xmlns=\"http://www.w3.org/2000/svg\" height=\"24px\"viewBox=\"0 0 24 24\"\n",
              "       width=\"24px\">\n",
              "    <path d=\"M0 0h24v24H0V0z\" fill=\"none\"/>\n",
              "    <path d=\"M18.56 5.44l.94 2.06.94-2.06 2.06-.94-2.06-.94-.94-2.06-.94 2.06-2.06.94zm-11 1L8.5 8.5l.94-2.06 2.06-.94-2.06-.94L8.5 2.5l-.94 2.06-2.06.94zm10 10l.94 2.06.94-2.06 2.06-.94-2.06-.94-.94-2.06-.94 2.06-2.06.94z\"/><path d=\"M17.41 7.96l-1.37-1.37c-.4-.4-.92-.59-1.43-.59-.52 0-1.04.2-1.43.59L10.3 9.45l-7.72 7.72c-.78.78-.78 2.05 0 2.83L4 21.41c.39.39.9.59 1.41.59.51 0 1.02-.2 1.41-.59l7.78-7.78 2.81-2.81c.8-.78.8-2.07 0-2.86zM5.41 20L4 18.59l7.72-7.72 1.47 1.35L5.41 20z\"/>\n",
              "  </svg>\n",
              "      </button>\n",
              "      \n",
              "  <style>\n",
              "    .colab-df-container {\n",
              "      display:flex;\n",
              "      flex-wrap:wrap;\n",
              "      gap: 12px;\n",
              "    }\n",
              "\n",
              "    .colab-df-convert {\n",
              "      background-color: #E8F0FE;\n",
              "      border: none;\n",
              "      border-radius: 50%;\n",
              "      cursor: pointer;\n",
              "      display: none;\n",
              "      fill: #1967D2;\n",
              "      height: 32px;\n",
              "      padding: 0 0 0 0;\n",
              "      width: 32px;\n",
              "    }\n",
              "\n",
              "    .colab-df-convert:hover {\n",
              "      background-color: #E2EBFA;\n",
              "      box-shadow: 0px 1px 2px rgba(60, 64, 67, 0.3), 0px 1px 3px 1px rgba(60, 64, 67, 0.15);\n",
              "      fill: #174EA6;\n",
              "    }\n",
              "\n",
              "    [theme=dark] .colab-df-convert {\n",
              "      background-color: #3B4455;\n",
              "      fill: #D2E3FC;\n",
              "    }\n",
              "\n",
              "    [theme=dark] .colab-df-convert:hover {\n",
              "      background-color: #434B5C;\n",
              "      box-shadow: 0px 1px 3px 1px rgba(0, 0, 0, 0.15);\n",
              "      filter: drop-shadow(0px 1px 2px rgba(0, 0, 0, 0.3));\n",
              "      fill: #FFFFFF;\n",
              "    }\n",
              "  </style>\n",
              "\n",
              "      <script>\n",
              "        const buttonEl =\n",
              "          document.querySelector('#df-18eb1e91-c904-4c66-a931-9afd1614a063 button.colab-df-convert');\n",
              "        buttonEl.style.display =\n",
              "          google.colab.kernel.accessAllowed ? 'block' : 'none';\n",
              "\n",
              "        async function convertToInteractive(key) {\n",
              "          const element = document.querySelector('#df-18eb1e91-c904-4c66-a931-9afd1614a063');\n",
              "          const dataTable =\n",
              "            await google.colab.kernel.invokeFunction('convertToInteractive',\n",
              "                                                     [key], {});\n",
              "          if (!dataTable) return;\n",
              "\n",
              "          const docLinkHtml = 'Like what you see? Visit the ' +\n",
              "            '<a target=\"_blank\" href=https://colab.research.google.com/notebooks/data_table.ipynb>data table notebook</a>'\n",
              "            + ' to learn more about interactive tables.';\n",
              "          element.innerHTML = '';\n",
              "          dataTable['output_type'] = 'display_data';\n",
              "          await google.colab.output.renderOutput(dataTable, element);\n",
              "          const docLink = document.createElement('div');\n",
              "          docLink.innerHTML = docLinkHtml;\n",
              "          element.appendChild(docLink);\n",
              "        }\n",
              "      </script>\n",
              "    </div>\n",
              "  </div>\n",
              "  "
            ]
          },
          "metadata": {},
          "execution_count": 73
        }
      ]
    },
    {
      "cell_type": "markdown",
      "source": [
        "### Get a quick description of the data Using the info() method "
      ],
      "metadata": {
        "id": "hMDWCrV68mCq"
      }
    },
    {
      "cell_type": "code",
      "source": [
        "train.info()"
      ],
      "metadata": {
        "colab": {
          "base_uri": "https://localhost:8080/"
        },
        "id": "hFufkVICxO5T",
        "outputId": "f90ba3d3-dccb-4f42-ec2e-74921eaa9823"
      },
      "execution_count": 74,
      "outputs": [
        {
          "output_type": "stream",
          "name": "stdout",
          "text": [
            "<class 'pandas.core.frame.DataFrame'>\n",
            "RangeIndex: 14396 entries, 0 to 14395\n",
            "Data columns (total 18 columns):\n",
            " #   Column              Non-Null Count  Dtype  \n",
            "---  ------              --------------  -----  \n",
            " 0   Id                  14396 non-null  int64  \n",
            " 1   Artist Name         14396 non-null  object \n",
            " 2   Track Name          14396 non-null  object \n",
            " 3   Popularity          14063 non-null  float64\n",
            " 4   danceability        14396 non-null  float64\n",
            " 5   energy              14396 non-null  float64\n",
            " 6   key                 12787 non-null  float64\n",
            " 7   loudness            14396 non-null  float64\n",
            " 8   mode                14396 non-null  int64  \n",
            " 9   speechiness         14396 non-null  float64\n",
            " 10  acousticness        14396 non-null  float64\n",
            " 11  instrumentalness    10855 non-null  float64\n",
            " 12  liveness            14396 non-null  float64\n",
            " 13  valence             14396 non-null  float64\n",
            " 14  tempo               14396 non-null  float64\n",
            " 15  duration_in min/ms  14396 non-null  float64\n",
            " 16  time_signature      14396 non-null  int64  \n",
            " 17  Class               14396 non-null  int64  \n",
            "dtypes: float64(12), int64(4), object(2)\n",
            "memory usage: 2.0+ MB\n"
          ]
        }
      ]
    },
    {
      "cell_type": "code",
      "source": [
        "test.info()"
      ],
      "metadata": {
        "colab": {
          "base_uri": "https://localhost:8080/"
        },
        "id": "VF-TH60H1UgD",
        "outputId": "19ca5fed-95ee-491f-f090-500a9e96ae32"
      },
      "execution_count": 75,
      "outputs": [
        {
          "output_type": "stream",
          "name": "stdout",
          "text": [
            "<class 'pandas.core.frame.DataFrame'>\n",
            "RangeIndex: 3600 entries, 0 to 3599\n",
            "Data columns (total 17 columns):\n",
            " #   Column              Non-Null Count  Dtype  \n",
            "---  ------              --------------  -----  \n",
            " 0   Id                  3600 non-null   int64  \n",
            " 1   Artist Name         3600 non-null   object \n",
            " 2   Track Name          3600 non-null   object \n",
            " 3   Popularity          3505 non-null   float64\n",
            " 4   danceability        3600 non-null   float64\n",
            " 5   energy              3600 non-null   float64\n",
            " 6   key                 3195 non-null   float64\n",
            " 7   loudness            3600 non-null   float64\n",
            " 8   mode                3600 non-null   int64  \n",
            " 9   speechiness         3600 non-null   float64\n",
            " 10  acousticness        3600 non-null   float64\n",
            " 11  instrumentalness    2764 non-null   float64\n",
            " 12  liveness            3600 non-null   float64\n",
            " 13  valence             3600 non-null   float64\n",
            " 14  tempo               3600 non-null   float64\n",
            " 15  duration_in min/ms  3600 non-null   float64\n",
            " 16  time_signature      3600 non-null   int64  \n",
            "dtypes: float64(12), int64(3), object(2)\n",
            "memory usage: 478.2+ KB\n"
          ]
        }
      ]
    },
    {
      "cell_type": "markdown",
      "source": [
        "now we know that we have seventeen columns in train dataframe and eighteen columns in train dataframe.\n",
        "\n",
        "in train dataframe two colomns is categorical data and sixteen columns is numerical data.\n",
        "\n",
        "in test dataframe two columns is categorical data and fifteen is numerical data.\n",
        " \n",
        "There are null values in the following columns:Popularity, key and instrumentalness."
      ],
      "metadata": {
        "id": "Hi1GGNdh80Nw"
      }
    },
    {
      "cell_type": "markdown",
      "source": [
        "### Looking at the summary of the numerical attributes . Using the describe() method"
      ],
      "metadata": {
        "id": "ohEylWjL_UQR"
      }
    },
    {
      "cell_type": "code",
      "source": [
        "train.describe()"
      ],
      "metadata": {
        "colab": {
          "base_uri": "https://localhost:8080/",
          "height": 0
        },
        "id": "mTeVJpsZ2xZJ",
        "outputId": "fee6c859-2a87-4b54-ddb8-b3ce5488e046"
      },
      "execution_count": 76,
      "outputs": [
        {
          "output_type": "execute_result",
          "data": {
            "text/plain": [
              "                 Id    Popularity  danceability        energy           key  \\\n",
              "count  14396.000000  14063.000000  14396.000000  14396.000000  12787.000000   \n",
              "mean    7198.500000     44.525208      0.543105      0.662422      5.953781   \n",
              "std     4155.911573     17.418940      0.165517      0.235967      3.200013   \n",
              "min        1.000000      1.000000      0.059600      0.001210      1.000000   \n",
              "25%     3599.750000     33.000000      0.432000      0.508000      3.000000   \n",
              "50%     7198.500000     44.000000      0.545000      0.699000      6.000000   \n",
              "75%    10797.250000     56.000000      0.658000      0.861000      9.000000   \n",
              "max    14396.000000    100.000000      0.989000      1.000000     11.000000   \n",
              "\n",
              "           loudness          mode   speechiness  acousticness  \\\n",
              "count  14396.000000  14396.000000  14396.000000  14396.000000   \n",
              "mean      -7.900852      0.640247      0.080181      0.246746   \n",
              "std        4.057362      0.479944      0.085157      0.310922   \n",
              "min      -39.952000      0.000000      0.022500      0.000000   \n",
              "25%       -9.538000      0.000000      0.034800      0.004280   \n",
              "50%       -7.013500      1.000000      0.047100      0.081450   \n",
              "75%       -5.162000      1.000000      0.083100      0.432250   \n",
              "max        1.342000      1.000000      0.955000      0.996000   \n",
              "\n",
              "       instrumentalness      liveness       valence         tempo  \\\n",
              "count      10855.000000  14396.000000  14396.000000  14396.000000   \n",
              "mean           0.178129      0.195782      0.486379    122.695372   \n",
              "std            0.304266      0.159258      0.239476     29.538490   \n",
              "min            0.000001      0.011900      0.021500     30.557000   \n",
              "25%            0.000088      0.097275      0.299000     99.799000   \n",
              "50%            0.003920      0.129000      0.480500    120.060000   \n",
              "75%            0.201000      0.256000      0.672000    141.988250   \n",
              "max            0.996000      0.992000      0.986000    217.416000   \n",
              "\n",
              "       duration_in min/ms  time_signature         Class  \n",
              "count        1.439600e+04    14396.000000  14396.000000  \n",
              "mean         2.000942e+05        3.924354      6.695679  \n",
              "std          1.116891e+05        0.359520      3.206170  \n",
              "min          5.016500e-01        1.000000      0.000000  \n",
              "25%          1.654458e+05        4.000000      5.000000  \n",
              "50%          2.089410e+05        4.000000      8.000000  \n",
              "75%          2.522470e+05        4.000000     10.000000  \n",
              "max          1.477187e+06        5.000000     10.000000  "
            ],
            "text/html": [
              "\n",
              "  <div id=\"df-033972ac-bd24-4bcf-93fd-02ae26622c8e\">\n",
              "    <div class=\"colab-df-container\">\n",
              "      <div>\n",
              "<style scoped>\n",
              "    .dataframe tbody tr th:only-of-type {\n",
              "        vertical-align: middle;\n",
              "    }\n",
              "\n",
              "    .dataframe tbody tr th {\n",
              "        vertical-align: top;\n",
              "    }\n",
              "\n",
              "    .dataframe thead th {\n",
              "        text-align: right;\n",
              "    }\n",
              "</style>\n",
              "<table border=\"1\" class=\"dataframe\">\n",
              "  <thead>\n",
              "    <tr style=\"text-align: right;\">\n",
              "      <th></th>\n",
              "      <th>Id</th>\n",
              "      <th>Popularity</th>\n",
              "      <th>danceability</th>\n",
              "      <th>energy</th>\n",
              "      <th>key</th>\n",
              "      <th>loudness</th>\n",
              "      <th>mode</th>\n",
              "      <th>speechiness</th>\n",
              "      <th>acousticness</th>\n",
              "      <th>instrumentalness</th>\n",
              "      <th>liveness</th>\n",
              "      <th>valence</th>\n",
              "      <th>tempo</th>\n",
              "      <th>duration_in min/ms</th>\n",
              "      <th>time_signature</th>\n",
              "      <th>Class</th>\n",
              "    </tr>\n",
              "  </thead>\n",
              "  <tbody>\n",
              "    <tr>\n",
              "      <th>count</th>\n",
              "      <td>14396.000000</td>\n",
              "      <td>14063.000000</td>\n",
              "      <td>14396.000000</td>\n",
              "      <td>14396.000000</td>\n",
              "      <td>12787.000000</td>\n",
              "      <td>14396.000000</td>\n",
              "      <td>14396.000000</td>\n",
              "      <td>14396.000000</td>\n",
              "      <td>14396.000000</td>\n",
              "      <td>10855.000000</td>\n",
              "      <td>14396.000000</td>\n",
              "      <td>14396.000000</td>\n",
              "      <td>14396.000000</td>\n",
              "      <td>1.439600e+04</td>\n",
              "      <td>14396.000000</td>\n",
              "      <td>14396.000000</td>\n",
              "    </tr>\n",
              "    <tr>\n",
              "      <th>mean</th>\n",
              "      <td>7198.500000</td>\n",
              "      <td>44.525208</td>\n",
              "      <td>0.543105</td>\n",
              "      <td>0.662422</td>\n",
              "      <td>5.953781</td>\n",
              "      <td>-7.900852</td>\n",
              "      <td>0.640247</td>\n",
              "      <td>0.080181</td>\n",
              "      <td>0.246746</td>\n",
              "      <td>0.178129</td>\n",
              "      <td>0.195782</td>\n",
              "      <td>0.486379</td>\n",
              "      <td>122.695372</td>\n",
              "      <td>2.000942e+05</td>\n",
              "      <td>3.924354</td>\n",
              "      <td>6.695679</td>\n",
              "    </tr>\n",
              "    <tr>\n",
              "      <th>std</th>\n",
              "      <td>4155.911573</td>\n",
              "      <td>17.418940</td>\n",
              "      <td>0.165517</td>\n",
              "      <td>0.235967</td>\n",
              "      <td>3.200013</td>\n",
              "      <td>4.057362</td>\n",
              "      <td>0.479944</td>\n",
              "      <td>0.085157</td>\n",
              "      <td>0.310922</td>\n",
              "      <td>0.304266</td>\n",
              "      <td>0.159258</td>\n",
              "      <td>0.239476</td>\n",
              "      <td>29.538490</td>\n",
              "      <td>1.116891e+05</td>\n",
              "      <td>0.359520</td>\n",
              "      <td>3.206170</td>\n",
              "    </tr>\n",
              "    <tr>\n",
              "      <th>min</th>\n",
              "      <td>1.000000</td>\n",
              "      <td>1.000000</td>\n",
              "      <td>0.059600</td>\n",
              "      <td>0.001210</td>\n",
              "      <td>1.000000</td>\n",
              "      <td>-39.952000</td>\n",
              "      <td>0.000000</td>\n",
              "      <td>0.022500</td>\n",
              "      <td>0.000000</td>\n",
              "      <td>0.000001</td>\n",
              "      <td>0.011900</td>\n",
              "      <td>0.021500</td>\n",
              "      <td>30.557000</td>\n",
              "      <td>5.016500e-01</td>\n",
              "      <td>1.000000</td>\n",
              "      <td>0.000000</td>\n",
              "    </tr>\n",
              "    <tr>\n",
              "      <th>25%</th>\n",
              "      <td>3599.750000</td>\n",
              "      <td>33.000000</td>\n",
              "      <td>0.432000</td>\n",
              "      <td>0.508000</td>\n",
              "      <td>3.000000</td>\n",
              "      <td>-9.538000</td>\n",
              "      <td>0.000000</td>\n",
              "      <td>0.034800</td>\n",
              "      <td>0.004280</td>\n",
              "      <td>0.000088</td>\n",
              "      <td>0.097275</td>\n",
              "      <td>0.299000</td>\n",
              "      <td>99.799000</td>\n",
              "      <td>1.654458e+05</td>\n",
              "      <td>4.000000</td>\n",
              "      <td>5.000000</td>\n",
              "    </tr>\n",
              "    <tr>\n",
              "      <th>50%</th>\n",
              "      <td>7198.500000</td>\n",
              "      <td>44.000000</td>\n",
              "      <td>0.545000</td>\n",
              "      <td>0.699000</td>\n",
              "      <td>6.000000</td>\n",
              "      <td>-7.013500</td>\n",
              "      <td>1.000000</td>\n",
              "      <td>0.047100</td>\n",
              "      <td>0.081450</td>\n",
              "      <td>0.003920</td>\n",
              "      <td>0.129000</td>\n",
              "      <td>0.480500</td>\n",
              "      <td>120.060000</td>\n",
              "      <td>2.089410e+05</td>\n",
              "      <td>4.000000</td>\n",
              "      <td>8.000000</td>\n",
              "    </tr>\n",
              "    <tr>\n",
              "      <th>75%</th>\n",
              "      <td>10797.250000</td>\n",
              "      <td>56.000000</td>\n",
              "      <td>0.658000</td>\n",
              "      <td>0.861000</td>\n",
              "      <td>9.000000</td>\n",
              "      <td>-5.162000</td>\n",
              "      <td>1.000000</td>\n",
              "      <td>0.083100</td>\n",
              "      <td>0.432250</td>\n",
              "      <td>0.201000</td>\n",
              "      <td>0.256000</td>\n",
              "      <td>0.672000</td>\n",
              "      <td>141.988250</td>\n",
              "      <td>2.522470e+05</td>\n",
              "      <td>4.000000</td>\n",
              "      <td>10.000000</td>\n",
              "    </tr>\n",
              "    <tr>\n",
              "      <th>max</th>\n",
              "      <td>14396.000000</td>\n",
              "      <td>100.000000</td>\n",
              "      <td>0.989000</td>\n",
              "      <td>1.000000</td>\n",
              "      <td>11.000000</td>\n",
              "      <td>1.342000</td>\n",
              "      <td>1.000000</td>\n",
              "      <td>0.955000</td>\n",
              "      <td>0.996000</td>\n",
              "      <td>0.996000</td>\n",
              "      <td>0.992000</td>\n",
              "      <td>0.986000</td>\n",
              "      <td>217.416000</td>\n",
              "      <td>1.477187e+06</td>\n",
              "      <td>5.000000</td>\n",
              "      <td>10.000000</td>\n",
              "    </tr>\n",
              "  </tbody>\n",
              "</table>\n",
              "</div>\n",
              "      <button class=\"colab-df-convert\" onclick=\"convertToInteractive('df-033972ac-bd24-4bcf-93fd-02ae26622c8e')\"\n",
              "              title=\"Convert this dataframe to an interactive table.\"\n",
              "              style=\"display:none;\">\n",
              "        \n",
              "  <svg xmlns=\"http://www.w3.org/2000/svg\" height=\"24px\"viewBox=\"0 0 24 24\"\n",
              "       width=\"24px\">\n",
              "    <path d=\"M0 0h24v24H0V0z\" fill=\"none\"/>\n",
              "    <path d=\"M18.56 5.44l.94 2.06.94-2.06 2.06-.94-2.06-.94-.94-2.06-.94 2.06-2.06.94zm-11 1L8.5 8.5l.94-2.06 2.06-.94-2.06-.94L8.5 2.5l-.94 2.06-2.06.94zm10 10l.94 2.06.94-2.06 2.06-.94-2.06-.94-.94-2.06-.94 2.06-2.06.94z\"/><path d=\"M17.41 7.96l-1.37-1.37c-.4-.4-.92-.59-1.43-.59-.52 0-1.04.2-1.43.59L10.3 9.45l-7.72 7.72c-.78.78-.78 2.05 0 2.83L4 21.41c.39.39.9.59 1.41.59.51 0 1.02-.2 1.41-.59l7.78-7.78 2.81-2.81c.8-.78.8-2.07 0-2.86zM5.41 20L4 18.59l7.72-7.72 1.47 1.35L5.41 20z\"/>\n",
              "  </svg>\n",
              "      </button>\n",
              "      \n",
              "  <style>\n",
              "    .colab-df-container {\n",
              "      display:flex;\n",
              "      flex-wrap:wrap;\n",
              "      gap: 12px;\n",
              "    }\n",
              "\n",
              "    .colab-df-convert {\n",
              "      background-color: #E8F0FE;\n",
              "      border: none;\n",
              "      border-radius: 50%;\n",
              "      cursor: pointer;\n",
              "      display: none;\n",
              "      fill: #1967D2;\n",
              "      height: 32px;\n",
              "      padding: 0 0 0 0;\n",
              "      width: 32px;\n",
              "    }\n",
              "\n",
              "    .colab-df-convert:hover {\n",
              "      background-color: #E2EBFA;\n",
              "      box-shadow: 0px 1px 2px rgba(60, 64, 67, 0.3), 0px 1px 3px 1px rgba(60, 64, 67, 0.15);\n",
              "      fill: #174EA6;\n",
              "    }\n",
              "\n",
              "    [theme=dark] .colab-df-convert {\n",
              "      background-color: #3B4455;\n",
              "      fill: #D2E3FC;\n",
              "    }\n",
              "\n",
              "    [theme=dark] .colab-df-convert:hover {\n",
              "      background-color: #434B5C;\n",
              "      box-shadow: 0px 1px 3px 1px rgba(0, 0, 0, 0.15);\n",
              "      filter: drop-shadow(0px 1px 2px rgba(0, 0, 0, 0.3));\n",
              "      fill: #FFFFFF;\n",
              "    }\n",
              "  </style>\n",
              "\n",
              "      <script>\n",
              "        const buttonEl =\n",
              "          document.querySelector('#df-033972ac-bd24-4bcf-93fd-02ae26622c8e button.colab-df-convert');\n",
              "        buttonEl.style.display =\n",
              "          google.colab.kernel.accessAllowed ? 'block' : 'none';\n",
              "\n",
              "        async function convertToInteractive(key) {\n",
              "          const element = document.querySelector('#df-033972ac-bd24-4bcf-93fd-02ae26622c8e');\n",
              "          const dataTable =\n",
              "            await google.colab.kernel.invokeFunction('convertToInteractive',\n",
              "                                                     [key], {});\n",
              "          if (!dataTable) return;\n",
              "\n",
              "          const docLinkHtml = 'Like what you see? Visit the ' +\n",
              "            '<a target=\"_blank\" href=https://colab.research.google.com/notebooks/data_table.ipynb>data table notebook</a>'\n",
              "            + ' to learn more about interactive tables.';\n",
              "          element.innerHTML = '';\n",
              "          dataTable['output_type'] = 'display_data';\n",
              "          await google.colab.output.renderOutput(dataTable, element);\n",
              "          const docLink = document.createElement('div');\n",
              "          docLink.innerHTML = docLinkHtml;\n",
              "          element.appendChild(docLink);\n",
              "        }\n",
              "      </script>\n",
              "    </div>\n",
              "  </div>\n",
              "  "
            ]
          },
          "metadata": {},
          "execution_count": 76
        }
      ]
    },
    {
      "cell_type": "code",
      "source": [
        "test.describe()"
      ],
      "metadata": {
        "colab": {
          "base_uri": "https://localhost:8080/",
          "height": 0
        },
        "id": "01vUpbg_DcpY",
        "outputId": "3897ac91-d80e-4402-858e-8cc48efe0dc1"
      },
      "execution_count": 77,
      "outputs": [
        {
          "output_type": "execute_result",
          "data": {
            "text/plain": [
              "                 Id   Popularity  danceability       energy          key  \\\n",
              "count   3600.000000  3505.000000   3600.000000  3600.000000  3195.000000   \n",
              "mean   16196.500000    44.459629      0.544744     0.664197     5.947105   \n",
              "std     1039.374812    17.461328      0.169257     0.233010     3.184676   \n",
              "min    14397.000000     1.000000      0.064600     0.000020     1.000000   \n",
              "25%    15296.750000    33.000000      0.430000     0.512000     3.000000   \n",
              "50%    16196.500000    44.000000      0.549000     0.703000     6.000000   \n",
              "75%    17096.250000    56.000000      0.664000     0.859000     9.000000   \n",
              "max    17996.000000    97.000000      0.970000     0.999000    11.000000   \n",
              "\n",
              "          loudness         mode  speechiness  acousticness  instrumentalness  \\\n",
              "count  3600.000000  3600.000000  3600.000000   3600.000000       2764.000000   \n",
              "mean     -7.949879     0.622778     0.077813      0.248425          0.175336   \n",
              "std       4.016468     0.484759     0.076914      0.309510          0.303238   \n",
              "min     -34.797000     0.000000     0.022700      0.000001          0.000001   \n",
              "25%      -9.532500     0.000000     0.034800      0.004488          0.000093   \n",
              "50%      -7.043500     1.000000     0.048750      0.080850          0.003755   \n",
              "75%      -5.282250     1.000000     0.082800      0.441250          0.197250   \n",
              "max       1.355000     1.000000     0.886000      0.996000          0.973000   \n",
              "\n",
              "          liveness      valence        tempo  duration_in min/ms  \\\n",
              "count  3600.000000  3600.000000  3600.000000        3.600000e+03   \n",
              "mean      0.197720     0.485527   122.335063        2.033447e+05   \n",
              "std       0.159040     0.243082    29.705640        1.131593e+05   \n",
              "min       0.014400     0.018300    48.718000        9.871167e-01   \n",
              "25%       0.098575     0.291000    98.515750        1.688360e+05   \n",
              "50%       0.131000     0.481000   120.091000        2.103355e+05   \n",
              "75%       0.265250     0.674000   141.846750        2.533958e+05   \n",
              "max       1.000000     0.984000   214.396000        1.412451e+06   \n",
              "\n",
              "       time_signature  \n",
              "count     3600.000000  \n",
              "mean         3.922778  \n",
              "std          0.369936  \n",
              "min          1.000000  \n",
              "25%          4.000000  \n",
              "50%          4.000000  \n",
              "75%          4.000000  \n",
              "max          5.000000  "
            ],
            "text/html": [
              "\n",
              "  <div id=\"df-4a14d513-a0d6-4adc-b31b-88a9a48f57ab\">\n",
              "    <div class=\"colab-df-container\">\n",
              "      <div>\n",
              "<style scoped>\n",
              "    .dataframe tbody tr th:only-of-type {\n",
              "        vertical-align: middle;\n",
              "    }\n",
              "\n",
              "    .dataframe tbody tr th {\n",
              "        vertical-align: top;\n",
              "    }\n",
              "\n",
              "    .dataframe thead th {\n",
              "        text-align: right;\n",
              "    }\n",
              "</style>\n",
              "<table border=\"1\" class=\"dataframe\">\n",
              "  <thead>\n",
              "    <tr style=\"text-align: right;\">\n",
              "      <th></th>\n",
              "      <th>Id</th>\n",
              "      <th>Popularity</th>\n",
              "      <th>danceability</th>\n",
              "      <th>energy</th>\n",
              "      <th>key</th>\n",
              "      <th>loudness</th>\n",
              "      <th>mode</th>\n",
              "      <th>speechiness</th>\n",
              "      <th>acousticness</th>\n",
              "      <th>instrumentalness</th>\n",
              "      <th>liveness</th>\n",
              "      <th>valence</th>\n",
              "      <th>tempo</th>\n",
              "      <th>duration_in min/ms</th>\n",
              "      <th>time_signature</th>\n",
              "    </tr>\n",
              "  </thead>\n",
              "  <tbody>\n",
              "    <tr>\n",
              "      <th>count</th>\n",
              "      <td>3600.000000</td>\n",
              "      <td>3505.000000</td>\n",
              "      <td>3600.000000</td>\n",
              "      <td>3600.000000</td>\n",
              "      <td>3195.000000</td>\n",
              "      <td>3600.000000</td>\n",
              "      <td>3600.000000</td>\n",
              "      <td>3600.000000</td>\n",
              "      <td>3600.000000</td>\n",
              "      <td>2764.000000</td>\n",
              "      <td>3600.000000</td>\n",
              "      <td>3600.000000</td>\n",
              "      <td>3600.000000</td>\n",
              "      <td>3.600000e+03</td>\n",
              "      <td>3600.000000</td>\n",
              "    </tr>\n",
              "    <tr>\n",
              "      <th>mean</th>\n",
              "      <td>16196.500000</td>\n",
              "      <td>44.459629</td>\n",
              "      <td>0.544744</td>\n",
              "      <td>0.664197</td>\n",
              "      <td>5.947105</td>\n",
              "      <td>-7.949879</td>\n",
              "      <td>0.622778</td>\n",
              "      <td>0.077813</td>\n",
              "      <td>0.248425</td>\n",
              "      <td>0.175336</td>\n",
              "      <td>0.197720</td>\n",
              "      <td>0.485527</td>\n",
              "      <td>122.335063</td>\n",
              "      <td>2.033447e+05</td>\n",
              "      <td>3.922778</td>\n",
              "    </tr>\n",
              "    <tr>\n",
              "      <th>std</th>\n",
              "      <td>1039.374812</td>\n",
              "      <td>17.461328</td>\n",
              "      <td>0.169257</td>\n",
              "      <td>0.233010</td>\n",
              "      <td>3.184676</td>\n",
              "      <td>4.016468</td>\n",
              "      <td>0.484759</td>\n",
              "      <td>0.076914</td>\n",
              "      <td>0.309510</td>\n",
              "      <td>0.303238</td>\n",
              "      <td>0.159040</td>\n",
              "      <td>0.243082</td>\n",
              "      <td>29.705640</td>\n",
              "      <td>1.131593e+05</td>\n",
              "      <td>0.369936</td>\n",
              "    </tr>\n",
              "    <tr>\n",
              "      <th>min</th>\n",
              "      <td>14397.000000</td>\n",
              "      <td>1.000000</td>\n",
              "      <td>0.064600</td>\n",
              "      <td>0.000020</td>\n",
              "      <td>1.000000</td>\n",
              "      <td>-34.797000</td>\n",
              "      <td>0.000000</td>\n",
              "      <td>0.022700</td>\n",
              "      <td>0.000001</td>\n",
              "      <td>0.000001</td>\n",
              "      <td>0.014400</td>\n",
              "      <td>0.018300</td>\n",
              "      <td>48.718000</td>\n",
              "      <td>9.871167e-01</td>\n",
              "      <td>1.000000</td>\n",
              "    </tr>\n",
              "    <tr>\n",
              "      <th>25%</th>\n",
              "      <td>15296.750000</td>\n",
              "      <td>33.000000</td>\n",
              "      <td>0.430000</td>\n",
              "      <td>0.512000</td>\n",
              "      <td>3.000000</td>\n",
              "      <td>-9.532500</td>\n",
              "      <td>0.000000</td>\n",
              "      <td>0.034800</td>\n",
              "      <td>0.004488</td>\n",
              "      <td>0.000093</td>\n",
              "      <td>0.098575</td>\n",
              "      <td>0.291000</td>\n",
              "      <td>98.515750</td>\n",
              "      <td>1.688360e+05</td>\n",
              "      <td>4.000000</td>\n",
              "    </tr>\n",
              "    <tr>\n",
              "      <th>50%</th>\n",
              "      <td>16196.500000</td>\n",
              "      <td>44.000000</td>\n",
              "      <td>0.549000</td>\n",
              "      <td>0.703000</td>\n",
              "      <td>6.000000</td>\n",
              "      <td>-7.043500</td>\n",
              "      <td>1.000000</td>\n",
              "      <td>0.048750</td>\n",
              "      <td>0.080850</td>\n",
              "      <td>0.003755</td>\n",
              "      <td>0.131000</td>\n",
              "      <td>0.481000</td>\n",
              "      <td>120.091000</td>\n",
              "      <td>2.103355e+05</td>\n",
              "      <td>4.000000</td>\n",
              "    </tr>\n",
              "    <tr>\n",
              "      <th>75%</th>\n",
              "      <td>17096.250000</td>\n",
              "      <td>56.000000</td>\n",
              "      <td>0.664000</td>\n",
              "      <td>0.859000</td>\n",
              "      <td>9.000000</td>\n",
              "      <td>-5.282250</td>\n",
              "      <td>1.000000</td>\n",
              "      <td>0.082800</td>\n",
              "      <td>0.441250</td>\n",
              "      <td>0.197250</td>\n",
              "      <td>0.265250</td>\n",
              "      <td>0.674000</td>\n",
              "      <td>141.846750</td>\n",
              "      <td>2.533958e+05</td>\n",
              "      <td>4.000000</td>\n",
              "    </tr>\n",
              "    <tr>\n",
              "      <th>max</th>\n",
              "      <td>17996.000000</td>\n",
              "      <td>97.000000</td>\n",
              "      <td>0.970000</td>\n",
              "      <td>0.999000</td>\n",
              "      <td>11.000000</td>\n",
              "      <td>1.355000</td>\n",
              "      <td>1.000000</td>\n",
              "      <td>0.886000</td>\n",
              "      <td>0.996000</td>\n",
              "      <td>0.973000</td>\n",
              "      <td>1.000000</td>\n",
              "      <td>0.984000</td>\n",
              "      <td>214.396000</td>\n",
              "      <td>1.412451e+06</td>\n",
              "      <td>5.000000</td>\n",
              "    </tr>\n",
              "  </tbody>\n",
              "</table>\n",
              "</div>\n",
              "      <button class=\"colab-df-convert\" onclick=\"convertToInteractive('df-4a14d513-a0d6-4adc-b31b-88a9a48f57ab')\"\n",
              "              title=\"Convert this dataframe to an interactive table.\"\n",
              "              style=\"display:none;\">\n",
              "        \n",
              "  <svg xmlns=\"http://www.w3.org/2000/svg\" height=\"24px\"viewBox=\"0 0 24 24\"\n",
              "       width=\"24px\">\n",
              "    <path d=\"M0 0h24v24H0V0z\" fill=\"none\"/>\n",
              "    <path d=\"M18.56 5.44l.94 2.06.94-2.06 2.06-.94-2.06-.94-.94-2.06-.94 2.06-2.06.94zm-11 1L8.5 8.5l.94-2.06 2.06-.94-2.06-.94L8.5 2.5l-.94 2.06-2.06.94zm10 10l.94 2.06.94-2.06 2.06-.94-2.06-.94-.94-2.06-.94 2.06-2.06.94z\"/><path d=\"M17.41 7.96l-1.37-1.37c-.4-.4-.92-.59-1.43-.59-.52 0-1.04.2-1.43.59L10.3 9.45l-7.72 7.72c-.78.78-.78 2.05 0 2.83L4 21.41c.39.39.9.59 1.41.59.51 0 1.02-.2 1.41-.59l7.78-7.78 2.81-2.81c.8-.78.8-2.07 0-2.86zM5.41 20L4 18.59l7.72-7.72 1.47 1.35L5.41 20z\"/>\n",
              "  </svg>\n",
              "      </button>\n",
              "      \n",
              "  <style>\n",
              "    .colab-df-container {\n",
              "      display:flex;\n",
              "      flex-wrap:wrap;\n",
              "      gap: 12px;\n",
              "    }\n",
              "\n",
              "    .colab-df-convert {\n",
              "      background-color: #E8F0FE;\n",
              "      border: none;\n",
              "      border-radius: 50%;\n",
              "      cursor: pointer;\n",
              "      display: none;\n",
              "      fill: #1967D2;\n",
              "      height: 32px;\n",
              "      padding: 0 0 0 0;\n",
              "      width: 32px;\n",
              "    }\n",
              "\n",
              "    .colab-df-convert:hover {\n",
              "      background-color: #E2EBFA;\n",
              "      box-shadow: 0px 1px 2px rgba(60, 64, 67, 0.3), 0px 1px 3px 1px rgba(60, 64, 67, 0.15);\n",
              "      fill: #174EA6;\n",
              "    }\n",
              "\n",
              "    [theme=dark] .colab-df-convert {\n",
              "      background-color: #3B4455;\n",
              "      fill: #D2E3FC;\n",
              "    }\n",
              "\n",
              "    [theme=dark] .colab-df-convert:hover {\n",
              "      background-color: #434B5C;\n",
              "      box-shadow: 0px 1px 3px 1px rgba(0, 0, 0, 0.15);\n",
              "      filter: drop-shadow(0px 1px 2px rgba(0, 0, 0, 0.3));\n",
              "      fill: #FFFFFF;\n",
              "    }\n",
              "  </style>\n",
              "\n",
              "      <script>\n",
              "        const buttonEl =\n",
              "          document.querySelector('#df-4a14d513-a0d6-4adc-b31b-88a9a48f57ab button.colab-df-convert');\n",
              "        buttonEl.style.display =\n",
              "          google.colab.kernel.accessAllowed ? 'block' : 'none';\n",
              "\n",
              "        async function convertToInteractive(key) {\n",
              "          const element = document.querySelector('#df-4a14d513-a0d6-4adc-b31b-88a9a48f57ab');\n",
              "          const dataTable =\n",
              "            await google.colab.kernel.invokeFunction('convertToInteractive',\n",
              "                                                     [key], {});\n",
              "          if (!dataTable) return;\n",
              "\n",
              "          const docLinkHtml = 'Like what you see? Visit the ' +\n",
              "            '<a target=\"_blank\" href=https://colab.research.google.com/notebooks/data_table.ipynb>data table notebook</a>'\n",
              "            + ' to learn more about interactive tables.';\n",
              "          element.innerHTML = '';\n",
              "          dataTable['output_type'] = 'display_data';\n",
              "          await google.colab.output.renderOutput(dataTable, element);\n",
              "          const docLink = document.createElement('div');\n",
              "          docLink.innerHTML = docLinkHtml;\n",
              "          element.appendChild(docLink);\n",
              "        }\n",
              "      </script>\n",
              "    </div>\n",
              "  </div>\n",
              "  "
            ]
          },
          "metadata": {},
          "execution_count": 77
        }
      ]
    },
    {
      "cell_type": "markdown",
      "source": [
        "## B- Data visualization"
      ],
      "metadata": {
        "id": "Ek0W3T58PEEf"
      }
    },
    {
      "cell_type": "markdown",
      "source": [
        "Creating a hist plot for train dataframe."
      ],
      "metadata": {
        "id": "-uYLTXltM0cB"
      }
    },
    {
      "cell_type": "code",
      "source": [
        "train.hist(bins=50, figsize=(15,10))\n",
        "plt.show()"
      ],
      "metadata": {
        "colab": {
          "base_uri": "https://localhost:8080/",
          "height": 620
        },
        "id": "LHrDwBEpPVBH",
        "outputId": "8d93d727-693d-46f6-873b-466027f74644"
      },
      "execution_count": 78,
      "outputs": [
        {
          "output_type": "display_data",
          "data": {
            "text/plain": [
              "<Figure size 1080x720 with 16 Axes>"
            ],
            "image/png": "[encoded data removed]"
          },
          "metadata": {
            "needs_background": "light"
          }
        }
      ]
    },
    {
      "cell_type": "markdown",
      "source": [
        "Creating a hist plot for test dataframe."
      ],
      "metadata": {
        "id": "LRogCHaMXoe-"
      }
    },
    {
      "cell_type": "code",
      "source": [
        "test.hist(bins=50, figsize=(20,15))\n",
        "plt.show()"
      ],
      "metadata": {
        "colab": {
          "base_uri": "https://localhost:8080/",
          "height": 892
        },
        "id": "YROO7UxA0FPS",
        "outputId": "259c790a-f952-4699-e828-993abb9cef0a"
      },
      "execution_count": 79,
      "outputs": [
        {
          "output_type": "display_data",
          "data": {
            "text/plain": [
              "<Figure size 1440x1080 with 16 Axes>"
            ],
            "image/png": "[encoded data removed]"
          },
          "metadata": {
            "needs_background": "light"
          }
        }
      ]
    },
    {
      "cell_type": "markdown",
      "source": [
        "Creating a countplot plot for class attribute"
      ],
      "metadata": {
        "id": "3XFdReH4aKGW"
      }
    },
    {
      "cell_type": "code",
      "source": [
        "plt.figure(figsize=(12,6))\n",
        "sns.countplot(data= train, x=\"Class\")"
      ],
      "metadata": {
        "colab": {
          "base_uri": "https://localhost:8080/",
          "height": 405
        },
        "id": "ZLd-OMVEM6Tb",
        "outputId": "139f7095-aca8-47cd-e62b-a06bd8ca73ae"
      },
      "execution_count": 80,
      "outputs": [
        {
          "output_type": "execute_result",
          "data": {
            "text/plain": [
              "<matplotlib.axes._subplots.AxesSubplot at 0x7f5f7af66850>"
            ]
          },
          "metadata": {},
          "execution_count": 80
        },
        {
          "output_type": "display_data",
          "data": {
            "text/plain": [
              "<Figure size 864x432 with 1 Axes>"
            ],
            "image/png": "[encoded data removed]"
          },
          "metadata": {
            "needs_background": "light"
          }
        }
      ]
    },
    {
      "cell_type": "markdown",
      "source": [
        "The most frequent class is 10 and the least class is 4"
      ],
      "metadata": {
        "id": "e9SX16e4aNuv"
      }
    },
    {
      "cell_type": "markdown",
      "source": [
        "Explore correlation between all continuous numeric variables using .corr() method."
      ],
      "metadata": {
        "id": "nlevmGbJaaNH"
      }
    },
    {
      "cell_type": "code",
      "source": [
        "music_corr=train.corr()\n",
        "music_corr"
      ],
      "metadata": {
        "id": "_wuYyi-4VJzt",
        "colab": {
          "base_uri": "https://localhost:8080/",
          "height": 650
        },
        "outputId": "df356d57-ac4a-49e5-c85f-cd721a35e572"
      },
      "execution_count": 81,
      "outputs": [
        {
          "output_type": "execute_result",
          "data": {
            "text/plain": [
              "                          Id  Popularity  danceability    energy       key  \\\n",
              "Id                  1.000000    0.009026      0.010947 -0.010074  0.005719   \n",
              "Popularity          0.009026    1.000000      0.172907  0.051820  0.010230   \n",
              "danceability        0.010947    0.172907      1.000000 -0.094806  0.007667   \n",
              "energy             -0.010074    0.051820     -0.094806  1.000000  0.012834   \n",
              "key                 0.005719    0.010230      0.007667  0.012834  1.000000   \n",
              "loudness           -0.007514    0.124621      0.056193  0.769586  0.005738   \n",
              "mode               -0.010426    0.013747     -0.069311 -0.035974 -0.113318   \n",
              "speechiness        -0.005175    0.029297      0.202985  0.120869  0.001133   \n",
              "acousticness       -0.006828   -0.128886      0.007414 -0.746436 -0.007678   \n",
              "instrumentalness    0.004770   -0.165232     -0.203278 -0.187964 -0.001255   \n",
              "liveness           -0.008143   -0.068159     -0.105949  0.197802  0.014747   \n",
              "valence            -0.002044    0.054741      0.444798  0.227542  0.031505   \n",
              "tempo              -0.004239   -0.002964     -0.180764  0.205421  0.019937   \n",
              "duration_in min/ms  0.015961   -0.027773     -0.127245  0.241190  0.014343   \n",
              "time_signature     -0.000916    0.070232      0.137127  0.142971  0.008123   \n",
              "Class               0.002703    0.159484     -0.101152  0.215611 -0.004175   \n",
              "\n",
              "                    loudness      mode  speechiness  acousticness  \\\n",
              "Id                 -0.007514 -0.010426    -0.005175     -0.006828   \n",
              "Popularity          0.124621  0.013747     0.029297     -0.128886   \n",
              "danceability        0.056193 -0.069311     0.202985      0.007414   \n",
              "energy              0.769586 -0.035974     0.120869     -0.746436   \n",
              "key                 0.005738 -0.113318     0.001133     -0.007678   \n",
              "loudness            1.000000 -0.030553     0.090473     -0.614967   \n",
              "mode               -0.030553  1.000000    -0.072489      0.020817   \n",
              "speechiness         0.090473 -0.072489     1.000000     -0.084849   \n",
              "acousticness       -0.614967  0.020817    -0.084849      1.000000   \n",
              "instrumentalness   -0.350667 -0.019665    -0.065775      0.182656   \n",
              "liveness            0.113663 -0.002697     0.072569     -0.109400   \n",
              "valence             0.185779 -0.007580     0.059227     -0.127707   \n",
              "tempo               0.161750  0.017616     0.049739     -0.162988   \n",
              "duration_in min/ms  0.169003 -0.070849     0.006253     -0.321357   \n",
              "time_signature      0.125978 -0.016817     0.055992     -0.139500   \n",
              "Class               0.174111 -0.040092    -0.062784     -0.240609   \n",
              "\n",
              "                    instrumentalness  liveness   valence     tempo  \\\n",
              "Id                          0.004770 -0.008143 -0.002044 -0.004239   \n",
              "Popularity                 -0.165232 -0.068159  0.054741 -0.002964   \n",
              "danceability               -0.203278 -0.105949  0.444798 -0.180764   \n",
              "energy                     -0.187964  0.197802  0.227542  0.205421   \n",
              "key                        -0.001255  0.014747  0.031505  0.019937   \n",
              "loudness                   -0.350667  0.113663  0.185779  0.161750   \n",
              "mode                       -0.019665 -0.002697 -0.007580  0.017616   \n",
              "speechiness                -0.065775  0.072569  0.059227  0.049739   \n",
              "acousticness                0.182656 -0.109400 -0.127707 -0.162988   \n",
              "instrumentalness            1.000000 -0.049089 -0.228681 -0.036254   \n",
              "liveness                   -0.049089  1.000000  0.027385  0.030776   \n",
              "valence                    -0.228681  0.027385  1.000000  0.053439   \n",
              "tempo                      -0.036254  0.030776  0.053439  1.000000   \n",
              "duration_in min/ms         -0.010012  0.046579 -0.102725  0.040955   \n",
              "time_signature             -0.067573  0.014825  0.109727 -0.030530   \n",
              "Class                      -0.028631  0.040101 -0.080036  0.034496   \n",
              "\n",
              "                    duration_in min/ms  time_signature     Class  \n",
              "Id                            0.015961       -0.000916  0.002703  \n",
              "Popularity                   -0.027773        0.070232  0.159484  \n",
              "danceability                 -0.127245        0.137127 -0.101152  \n",
              "energy                        0.241190        0.142971  0.215611  \n",
              "key                           0.014343        0.008123 -0.004175  \n",
              "loudness                      0.169003        0.125978  0.174111  \n",
              "mode                         -0.070849       -0.016817 -0.040092  \n",
              "speechiness                   0.006253        0.055992 -0.062784  \n",
              "acousticness                 -0.321357       -0.139500 -0.240609  \n",
              "instrumentalness             -0.010012       -0.067573 -0.028631  \n",
              "liveness                      0.046579        0.014825  0.040101  \n",
              "valence                      -0.102725        0.109727 -0.080036  \n",
              "tempo                         0.040955       -0.030530  0.034496  \n",
              "duration_in min/ms            1.000000        0.005743  0.203822  \n",
              "time_signature                0.005743        1.000000  0.040053  \n",
              "Class                         0.203822        0.040053  1.000000  "
            ],
            "text/html": [
              "\n",
              "  <div id=\"df-8310ea31-a64a-427e-9d48-91f1c4d6e1c4\">\n",
              "    <div class=\"colab-df-container\">\n",
              "      <div>\n",
              "<style scoped>\n",
              "    .dataframe tbody tr th:only-of-type {\n",
              "        vertical-align: middle;\n",
              "    }\n",
              "\n",
              "    .dataframe tbody tr th {\n",
              "        vertical-align: top;\n",
              "    }\n",
              "\n",
              "    .dataframe thead th {\n",
              "        text-align: right;\n",
              "    }\n",
              "</style>\n",
              "<table border=\"1\" class=\"dataframe\">\n",
              "  <thead>\n",
              "    <tr style=\"text-align: right;\">\n",
              "      <th></th>\n",
              "      <th>Id</th>\n",
              "      <th>Popularity</th>\n",
              "      <th>danceability</th>\n",
              "      <th>energy</th>\n",
              "      <th>key</th>\n",
              "      <th>loudness</th>\n",
              "      <th>mode</th>\n",
              "      <th>speechiness</th>\n",
              "      <th>acousticness</th>\n",
              "      <th>instrumentalness</th>\n",
              "      <th>liveness</th>\n",
              "      <th>valence</th>\n",
              "      <th>tempo</th>\n",
              "      <th>duration_in min/ms</th>\n",
              "      <th>time_signature</th>\n",
              "      <th>Class</th>\n",
              "    </tr>\n",
              "  </thead>\n",
              "  <tbody>\n",
              "    <tr>\n",
              "      <th>Id</th>\n",
              "      <td>1.000000</td>\n",
              "      <td>0.009026</td>\n",
              "      <td>0.010947</td>\n",
              "      <td>-0.010074</td>\n",
              "      <td>0.005719</td>\n",
              "      <td>-0.007514</td>\n",
              "      <td>-0.010426</td>\n",
              "      <td>-0.005175</td>\n",
              "      <td>-0.006828</td>\n",
              "      <td>0.004770</td>\n",
              "      <td>-0.008143</td>\n",
              "      <td>-0.002044</td>\n",
              "      <td>-0.004239</td>\n",
              "      <td>0.015961</td>\n",
              "      <td>-0.000916</td>\n",
              "      <td>0.002703</td>\n",
              "    </tr>\n",
              "    <tr>\n",
              "      <th>Popularity</th>\n",
              "      <td>0.009026</td>\n",
              "      <td>1.000000</td>\n",
              "      <td>0.172907</td>\n",
              "      <td>0.051820</td>\n",
              "      <td>0.010230</td>\n",
              "      <td>0.124621</td>\n",
              "      <td>0.013747</td>\n",
              "      <td>0.029297</td>\n",
              "      <td>-0.128886</td>\n",
              "      <td>-0.165232</td>\n",
              "      <td>-0.068159</td>\n",
              "      <td>0.054741</td>\n",
              "      <td>-0.002964</td>\n",
              "      <td>-0.027773</td>\n",
              "      <td>0.070232</td>\n",
              "      <td>0.159484</td>\n",
              "    </tr>\n",
              "    <tr>\n",
              "      <th>danceability</th>\n",
              "      <td>0.010947</td>\n",
              "      <td>0.172907</td>\n",
              "      <td>1.000000</td>\n",
              "      <td>-0.094806</td>\n",
              "      <td>0.007667</td>\n",
              "      <td>0.056193</td>\n",
              "      <td>-0.069311</td>\n",
              "      <td>0.202985</td>\n",
              "      <td>0.007414</td>\n",
              "      <td>-0.203278</td>\n",
              "      <td>-0.105949</td>\n",
              "      <td>0.444798</td>\n",
              "      <td>-0.180764</td>\n",
              "      <td>-0.127245</td>\n",
              "      <td>0.137127</td>\n",
              "      <td>-0.101152</td>\n",
              "    </tr>\n",
              "    <tr>\n",
              "      <th>energy</th>\n",
              "      <td>-0.010074</td>\n",
              "      <td>0.051820</td>\n",
              "      <td>-0.094806</td>\n",
              "      <td>1.000000</td>\n",
              "      <td>0.012834</td>\n",
              "      <td>0.769586</td>\n",
              "      <td>-0.035974</td>\n",
              "      <td>0.120869</td>\n",
              "      <td>-0.746436</td>\n",
              "      <td>-0.187964</td>\n",
              "      <td>0.197802</td>\n",
              "      <td>0.227542</td>\n",
              "      <td>0.205421</td>\n",
              "      <td>0.241190</td>\n",
              "      <td>0.142971</td>\n",
              "      <td>0.215611</td>\n",
              "    </tr>\n",
              "    <tr>\n",
              "      <th>key</th>\n",
              "      <td>0.005719</td>\n",
              "      <td>0.010230</td>\n",
              "      <td>0.007667</td>\n",
              "      <td>0.012834</td>\n",
              "      <td>1.000000</td>\n",
              "      <td>0.005738</td>\n",
              "      <td>-0.113318</td>\n",
              "      <td>0.001133</td>\n",
              "      <td>-0.007678</td>\n",
              "      <td>-0.001255</td>\n",
              "      <td>0.014747</td>\n",
              "      <td>0.031505</td>\n",
              "      <td>0.019937</td>\n",
              "      <td>0.014343</td>\n",
              "      <td>0.008123</td>\n",
              "      <td>-0.004175</td>\n",
              "    </tr>\n",
              "    <tr>\n",
              "      <th>loudness</th>\n",
              "      <td>-0.007514</td>\n",
              "      <td>0.124621</td>\n",
              "      <td>0.056193</td>\n",
              "      <td>0.769586</td>\n",
              "      <td>0.005738</td>\n",
              "      <td>1.000000</td>\n",
              "      <td>-0.030553</td>\n",
              "      <td>0.090473</td>\n",
              "      <td>-0.614967</td>\n",
              "      <td>-0.350667</td>\n",
              "      <td>0.113663</td>\n",
              "      <td>0.185779</td>\n",
              "      <td>0.161750</td>\n",
              "      <td>0.169003</td>\n",
              "      <td>0.125978</td>\n",
              "      <td>0.174111</td>\n",
              "    </tr>\n",
              "    <tr>\n",
              "      <th>mode</th>\n",
              "      <td>-0.010426</td>\n",
              "      <td>0.013747</td>\n",
              "      <td>-0.069311</td>\n",
              "      <td>-0.035974</td>\n",
              "      <td>-0.113318</td>\n",
              "      <td>-0.030553</td>\n",
              "      <td>1.000000</td>\n",
              "      <td>-0.072489</td>\n",
              "      <td>0.020817</td>\n",
              "      <td>-0.019665</td>\n",
              "      <td>-0.002697</td>\n",
              "      <td>-0.007580</td>\n",
              "      <td>0.017616</td>\n",
              "      <td>-0.070849</td>\n",
              "      <td>-0.016817</td>\n",
              "      <td>-0.040092</td>\n",
              "    </tr>\n",
              "    <tr>\n",
              "      <th>speechiness</th>\n",
              "      <td>-0.005175</td>\n",
              "      <td>0.029297</td>\n",
              "      <td>0.202985</td>\n",
              "      <td>0.120869</td>\n",
              "      <td>0.001133</td>\n",
              "      <td>0.090473</td>\n",
              "      <td>-0.072489</td>\n",
              "      <td>1.000000</td>\n",
              "      <td>-0.084849</td>\n",
              "      <td>-0.065775</td>\n",
              "      <td>0.072569</td>\n",
              "      <td>0.059227</td>\n",
              "      <td>0.049739</td>\n",
              "      <td>0.006253</td>\n",
              "      <td>0.055992</td>\n",
              "      <td>-0.062784</td>\n",
              "    </tr>\n",
              "    <tr>\n",
              "      <th>acousticness</th>\n",
              "      <td>-0.006828</td>\n",
              "      <td>-0.128886</td>\n",
              "      <td>0.007414</td>\n",
              "      <td>-0.746436</td>\n",
              "      <td>-0.007678</td>\n",
              "      <td>-0.614967</td>\n",
              "      <td>0.020817</td>\n",
              "      <td>-0.084849</td>\n",
              "      <td>1.000000</td>\n",
              "      <td>0.182656</td>\n",
              "      <td>-0.109400</td>\n",
              "      <td>-0.127707</td>\n",
              "      <td>-0.162988</td>\n",
              "      <td>-0.321357</td>\n",
              "      <td>-0.139500</td>\n",
              "      <td>-0.240609</td>\n",
              "    </tr>\n",
              "    <tr>\n",
              "      <th>instrumentalness</th>\n",
              "      <td>0.004770</td>\n",
              "      <td>-0.165232</td>\n",
              "      <td>-0.203278</td>\n",
              "      <td>-0.187964</td>\n",
              "      <td>-0.001255</td>\n",
              "      <td>-0.350667</td>\n",
              "      <td>-0.019665</td>\n",
              "      <td>-0.065775</td>\n",
              "      <td>0.182656</td>\n",
              "      <td>1.000000</td>\n",
              "      <td>-0.049089</td>\n",
              "      <td>-0.228681</td>\n",
              "      <td>-0.036254</td>\n",
              "      <td>-0.010012</td>\n",
              "      <td>-0.067573</td>\n",
              "      <td>-0.028631</td>\n",
              "    </tr>\n",
              "    <tr>\n",
              "      <th>liveness</th>\n",
              "      <td>-0.008143</td>\n",
              "      <td>-0.068159</td>\n",
              "      <td>-0.105949</td>\n",
              "      <td>0.197802</td>\n",
              "      <td>0.014747</td>\n",
              "      <td>0.113663</td>\n",
              "      <td>-0.002697</td>\n",
              "      <td>0.072569</td>\n",
              "      <td>-0.109400</td>\n",
              "      <td>-0.049089</td>\n",
              "      <td>1.000000</td>\n",
              "      <td>0.027385</td>\n",
              "      <td>0.030776</td>\n",
              "      <td>0.046579</td>\n",
              "      <td>0.014825</td>\n",
              "      <td>0.040101</td>\n",
              "    </tr>\n",
              "    <tr>\n",
              "      <th>valence</th>\n",
              "      <td>-0.002044</td>\n",
              "      <td>0.054741</td>\n",
              "      <td>0.444798</td>\n",
              "      <td>0.227542</td>\n",
              "      <td>0.031505</td>\n",
              "      <td>0.185779</td>\n",
              "      <td>-0.007580</td>\n",
              "      <td>0.059227</td>\n",
              "      <td>-0.127707</td>\n",
              "      <td>-0.228681</td>\n",
              "      <td>0.027385</td>\n",
              "      <td>1.000000</td>\n",
              "      <td>0.053439</td>\n",
              "      <td>-0.102725</td>\n",
              "      <td>0.109727</td>\n",
              "      <td>-0.080036</td>\n",
              "    </tr>\n",
              "    <tr>\n",
              "      <th>tempo</th>\n",
              "      <td>-0.004239</td>\n",
              "      <td>-0.002964</td>\n",
              "      <td>-0.180764</td>\n",
              "      <td>0.205421</td>\n",
              "      <td>0.019937</td>\n",
              "      <td>0.161750</td>\n",
              "      <td>0.017616</td>\n",
              "      <td>0.049739</td>\n",
              "      <td>-0.162988</td>\n",
              "      <td>-0.036254</td>\n",
              "      <td>0.030776</td>\n",
              "      <td>0.053439</td>\n",
              "      <td>1.000000</td>\n",
              "      <td>0.040955</td>\n",
              "      <td>-0.030530</td>\n",
              "      <td>0.034496</td>\n",
              "    </tr>\n",
              "    <tr>\n",
              "      <th>duration_in min/ms</th>\n",
              "      <td>0.015961</td>\n",
              "      <td>-0.027773</td>\n",
              "      <td>-0.127245</td>\n",
              "      <td>0.241190</td>\n",
              "      <td>0.014343</td>\n",
              "      <td>0.169003</td>\n",
              "      <td>-0.070849</td>\n",
              "      <td>0.006253</td>\n",
              "      <td>-0.321357</td>\n",
              "      <td>-0.010012</td>\n",
              "      <td>0.046579</td>\n",
              "      <td>-0.102725</td>\n",
              "      <td>0.040955</td>\n",
              "      <td>1.000000</td>\n",
              "      <td>0.005743</td>\n",
              "      <td>0.203822</td>\n",
              "    </tr>\n",
              "    <tr>\n",
              "      <th>time_signature</th>\n",
              "      <td>-0.000916</td>\n",
              "      <td>0.070232</td>\n",
              "      <td>0.137127</td>\n",
              "      <td>0.142971</td>\n",
              "      <td>0.008123</td>\n",
              "      <td>0.125978</td>\n",
              "      <td>-0.016817</td>\n",
              "      <td>0.055992</td>\n",
              "      <td>-0.139500</td>\n",
              "      <td>-0.067573</td>\n",
              "      <td>0.014825</td>\n",
              "      <td>0.109727</td>\n",
              "      <td>-0.030530</td>\n",
              "      <td>0.005743</td>\n",
              "      <td>1.000000</td>\n",
              "      <td>0.040053</td>\n",
              "    </tr>\n",
              "    <tr>\n",
              "      <th>Class</th>\n",
              "      <td>0.002703</td>\n",
              "      <td>0.159484</td>\n",
              "      <td>-0.101152</td>\n",
              "      <td>0.215611</td>\n",
              "      <td>-0.004175</td>\n",
              "      <td>0.174111</td>\n",
              "      <td>-0.040092</td>\n",
              "      <td>-0.062784</td>\n",
              "      <td>-0.240609</td>\n",
              "      <td>-0.028631</td>\n",
              "      <td>0.040101</td>\n",
              "      <td>-0.080036</td>\n",
              "      <td>0.034496</td>\n",
              "      <td>0.203822</td>\n",
              "      <td>0.040053</td>\n",
              "      <td>1.000000</td>\n",
              "    </tr>\n",
              "  </tbody>\n",
              "</table>\n",
              "</div>\n",
              "      <button class=\"colab-df-convert\" onclick=\"convertToInteractive('df-8310ea31-a64a-427e-9d48-91f1c4d6e1c4')\"\n",
              "              title=\"Convert this dataframe to an interactive table.\"\n",
              "              style=\"display:none;\">\n",
              "        \n",
              "  <svg xmlns=\"http://www.w3.org/2000/svg\" height=\"24px\"viewBox=\"0 0 24 24\"\n",
              "       width=\"24px\">\n",
              "    <path d=\"M0 0h24v24H0V0z\" fill=\"none\"/>\n",
              "    <path d=\"M18.56 5.44l.94 2.06.94-2.06 2.06-.94-2.06-.94-.94-2.06-.94 2.06-2.06.94zm-11 1L8.5 8.5l.94-2.06 2.06-.94-2.06-.94L8.5 2.5l-.94 2.06-2.06.94zm10 10l.94 2.06.94-2.06 2.06-.94-2.06-.94-.94-2.06-.94 2.06-2.06.94z\"/><path d=\"M17.41 7.96l-1.37-1.37c-.4-.4-.92-.59-1.43-.59-.52 0-1.04.2-1.43.59L10.3 9.45l-7.72 7.72c-.78.78-.78 2.05 0 2.83L4 21.41c.39.39.9.59 1.41.59.51 0 1.02-.2 1.41-.59l7.78-7.78 2.81-2.81c.8-.78.8-2.07 0-2.86zM5.41 20L4 18.59l7.72-7.72 1.47 1.35L5.41 20z\"/>\n",
              "  </svg>\n",
              "      </button>\n",
              "      \n",
              "  <style>\n",
              "    .colab-df-container {\n",
              "      display:flex;\n",
              "      flex-wrap:wrap;\n",
              "      gap: 12px;\n",
              "    }\n",
              "\n",
              "    .colab-df-convert {\n",
              "      background-color: #E8F0FE;\n",
              "      border: none;\n",
              "      border-radius: 50%;\n",
              "      cursor: pointer;\n",
              "      display: none;\n",
              "      fill: #1967D2;\n",
              "      height: 32px;\n",
              "      padding: 0 0 0 0;\n",
              "      width: 32px;\n",
              "    }\n",
              "\n",
              "    .colab-df-convert:hover {\n",
              "      background-color: #E2EBFA;\n",
              "      box-shadow: 0px 1px 2px rgba(60, 64, 67, 0.3), 0px 1px 3px 1px rgba(60, 64, 67, 0.15);\n",
              "      fill: #174EA6;\n",
              "    }\n",
              "\n",
              "    [theme=dark] .colab-df-convert {\n",
              "      background-color: #3B4455;\n",
              "      fill: #D2E3FC;\n",
              "    }\n",
              "\n",
              "    [theme=dark] .colab-df-convert:hover {\n",
              "      background-color: #434B5C;\n",
              "      box-shadow: 0px 1px 3px 1px rgba(0, 0, 0, 0.15);\n",
              "      filter: drop-shadow(0px 1px 2px rgba(0, 0, 0, 0.3));\n",
              "      fill: #FFFFFF;\n",
              "    }\n",
              "  </style>\n",
              "\n",
              "      <script>\n",
              "        const buttonEl =\n",
              "          document.querySelector('#df-8310ea31-a64a-427e-9d48-91f1c4d6e1c4 button.colab-df-convert');\n",
              "        buttonEl.style.display =\n",
              "          google.colab.kernel.accessAllowed ? 'block' : 'none';\n",
              "\n",
              "        async function convertToInteractive(key) {\n",
              "          const element = document.querySelector('#df-8310ea31-a64a-427e-9d48-91f1c4d6e1c4');\n",
              "          const dataTable =\n",
              "            await google.colab.kernel.invokeFunction('convertToInteractive',\n",
              "                                                     [key], {});\n",
              "          if (!dataTable) return;\n",
              "\n",
              "          const docLinkHtml = 'Like what you see? Visit the ' +\n",
              "            '<a target=\"_blank\" href=https://colab.research.google.com/notebooks/data_table.ipynb>data table notebook</a>'\n",
              "            + ' to learn more about interactive tables.';\n",
              "          element.innerHTML = '';\n",
              "          dataTable['output_type'] = 'display_data';\n",
              "          await google.colab.output.renderOutput(dataTable, element);\n",
              "          const docLink = document.createElement('div');\n",
              "          docLink.innerHTML = docLinkHtml;\n",
              "          element.appendChild(docLink);\n",
              "        }\n",
              "      </script>\n",
              "    </div>\n",
              "  </div>\n",
              "  "
            ]
          },
          "metadata": {},
          "execution_count": 81
        }
      ]
    },
    {
      "cell_type": "markdown",
      "source": [
        "Use seaborn method to convert the correlation matrix to a heatmap plot."
      ],
      "metadata": {
        "id": "-5h98ss9ahwP"
      }
    },
    {
      "cell_type": "code",
      "source": [
        "plt.figure(figsize=(12,9))\n",
        "sns.heatmap(train.corr(), annot=True, cmap='viridis')"
      ],
      "metadata": {
        "id": "sDPOq1HLQvc-",
        "colab": {
          "base_uri": "https://localhost:8080/",
          "height": 645
        },
        "outputId": "3af5ffbf-6239-4e8a-f54e-6046005bfaa3"
      },
      "execution_count": 82,
      "outputs": [
        {
          "output_type": "execute_result",
          "data": {
            "text/plain": [
              "<matplotlib.axes._subplots.AxesSubplot at 0x7f5f7b315e90>"
            ]
          },
          "metadata": {},
          "execution_count": 82
        },
        {
          "output_type": "display_data",
          "data": {
            "text/plain": [
              "<Figure size 864x648 with 2 Axes>"
            ],
            "image/png": "[encoded data removed]"
          },
          "metadata": {
            "needs_background": "light"
          }
        }
      ]
    },
    {
      "cell_type": "markdown",
      "source": [
        "Display the correlation between Class variable and all continuous numeric variables"
      ],
      "metadata": {
        "id": "sa-EVpnIctA_"
      }
    },
    {
      "cell_type": "code",
      "source": [
        "music_corr['Class'].sort_values(ascending=False)"
      ],
      "metadata": {
        "id": "uM78Y-hDU53d",
        "colab": {
          "base_uri": "https://localhost:8080/"
        },
        "outputId": "f559c663-9e22-4619-a900-582581cf4fc6"
      },
      "execution_count": 83,
      "outputs": [
        {
          "output_type": "execute_result",
          "data": {
            "text/plain": [
              "Class                 1.000000\n",
              "energy                0.215611\n",
              "duration_in min/ms    0.203822\n",
              "loudness              0.174111\n",
              "Popularity            0.159484\n",
              "liveness              0.040101\n",
              "time_signature        0.040053\n",
              "tempo                 0.034496\n",
              "Id                    0.002703\n",
              "key                  -0.004175\n",
              "instrumentalness     -0.028631\n",
              "mode                 -0.040092\n",
              "speechiness          -0.062784\n",
              "valence              -0.080036\n",
              "danceability         -0.101152\n",
              "acousticness         -0.240609\n",
              "Name: Class, dtype: float64"
            ]
          },
          "metadata": {},
          "execution_count": 83
        }
      ]
    },
    {
      "cell_type": "markdown",
      "source": [
        "\n",
        "\n",
        "\n",
        "---\n",
        "\n",
        "# 3- Prepare the data.\n",
        "\n",
        "---\n"
      ],
      "metadata": {
        "id": "nnTSIci2V6H_"
      }
    },
    {
      "cell_type": "markdown",
      "source": [
        "## A- Attribute Combinations"
      ],
      "metadata": {
        "id": "ggNA3VzrpSby"
      }
    },
    {
      "cell_type": "markdown",
      "source": [
        "Delete Id, Artist Name and Track Name attributes because we don't need them and they don't help us in our project."
      ],
      "metadata": {
        "id": "ZsAyBp0HpwT6"
      }
    },
    {
      "cell_type": "code",
      "source": [
        "train_drop=train[['Id','Artist Name','Track Name']]\n",
        "train=train.drop(train_drop,axis=1)"
      ],
      "metadata": {
        "id": "zIUBkOBOpivm"
      },
      "execution_count": 3,
      "outputs": []
    },
    {
      "cell_type": "code",
      "source": [
        "id=test['Id']\n",
        "test_drop=test[['Id','Artist Name','Track Name']]\n",
        "test=test.drop(test_drop,axis=1)"
      ],
      "metadata": {
        "id": "yIderwqFpij2"
      },
      "execution_count": 4,
      "outputs": []
    },
    {
      "cell_type": "markdown",
      "source": [
        "\n",
        "\n",
        "\n",
        "\n",
        "## B- Data Cleaning"
      ],
      "metadata": {
        "id": "--ei2V-CV7ZN"
      }
    },
    {
      "cell_type": "code",
      "source": [
        "columns_name1=[ 'Popularity', 'danceability',\n",
        "       'energy', 'key', 'loudness', 'mode', 'speechiness', 'acousticness',\n",
        "       'instrumentalness', 'liveness', 'valence', 'tempo',\n",
        "       'duration_in min/ms', 'time_signature','Class']\n",
        "columns_name2=[ 'Popularity', 'danceability',\n",
        "       'energy', 'key', 'loudness', 'mode', 'speechiness', 'acousticness',\n",
        "       'instrumentalness', 'livenes', 'valence', 'tempo',\n",
        "       'duration_in min/ms', 'time_signature']"
      ],
      "metadata": {
        "id": "4soZT4V6vU3L"
      },
      "execution_count": 5,
      "outputs": []
    },
    {
      "cell_type": "markdown",
      "source": [
        "Display the count of null values in each culomn."
      ],
      "metadata": {
        "id": "JgfIBQIWcgeH"
      }
    },
    {
      "cell_type": "code",
      "source": [
        "train.isna().sum()"
      ],
      "metadata": {
        "colab": {
          "base_uri": "https://localhost:8080/"
        },
        "id": "n2oWpVh0bcwL",
        "outputId": "dc33695f-1db7-4ac1-ace5-7f1940dac75f"
      },
      "execution_count": 6,
      "outputs": [
        {
          "output_type": "execute_result",
          "data": {
            "text/plain": [
              "Popularity             333\n",
              "danceability             0\n",
              "energy                   0\n",
              "key                   1609\n",
              "loudness                 0\n",
              "mode                     0\n",
              "speechiness              0\n",
              "acousticness             0\n",
              "instrumentalness      3541\n",
              "liveness                 0\n",
              "valence                  0\n",
              "tempo                    0\n",
              "duration_in min/ms       0\n",
              "time_signature           0\n",
              "Class                    0\n",
              "dtype: int64"
            ]
          },
          "metadata": {},
          "execution_count": 6
        }
      ]
    },
    {
      "cell_type": "markdown",
      "source": [
        "Display the count of null values in each culomn using heatmap"
      ],
      "metadata": {
        "id": "Bzug_zfe0JxT"
      }
    },
    {
      "cell_type": "code",
      "source": [
        "plt.figure(figsize=(6,6))\n",
        "sns.heatmap(train.isnull(),yticklabels=False,cbar=False,cmap='viridis')"
      ],
      "metadata": {
        "colab": {
          "base_uri": "https://localhost:8080/",
          "height": 0
        },
        "id": "WfQOkKITZNk-",
        "outputId": "db32659f-69d7-4edc-bc37-76c71617316a"
      },
      "execution_count": 7,
      "outputs": [
        {
          "output_type": "execute_result",
          "data": {
            "text/plain": [
              "<matplotlib.axes._subplots.AxesSubplot at 0x7f8ab329cbd0>"
            ]
          },
          "metadata": {},
          "execution_count": 7
        },
        {
          "output_type": "display_data",
          "data": {
            "text/plain": [
              "<Figure size 432x432 with 1 Axes>"
            ],
            "image/png": "[encoded data removed]"
          },
          "metadata": {
            "needs_background": "light"
          }
        }
      ]
    },
    {
      "cell_type": "markdown",
      "source": [
        "replace null values using IterativeImputer from sklearn \n",
        "\n",
        "I use RandomForestRegressor to predict these values."
      ],
      "metadata": {
        "id": "y99SSb_U0W8T"
      }
    },
    {
      "cell_type": "code",
      "source": [
        "from sklearn.experimental import enable_iterative_imputer\n",
        "from sklearn.impute import IterativeImputer\n",
        "from sklearn.ensemble import RandomForestRegressor\n",
        "imptr = IterativeImputer(RandomForestRegressor(), max_iter=10, random_state=0)\n",
        "train1 = pd.DataFrame(imptr.fit_transform(train), columns = columns_name1)\n",
        "train1"
      ],
      "metadata": {
        "colab": {
          "base_uri": "https://localhost:8080/",
          "height": 0
        },
        "id": "aaKhALxwndmG",
        "outputId": "11df9817-9860-4ff6-b3ca-96c5e8399110"
      },
      "execution_count": 8,
      "outputs": [
        {
          "output_type": "execute_result",
          "data": {
            "text/plain": [
              "       Popularity  danceability  energy    key  loudness  mode  speechiness  \\\n",
              "0           37.00         0.334   0.536   9.00    -6.649   0.0       0.0381   \n",
              "1           67.00         0.725   0.747  11.00    -5.545   1.0       0.0876   \n",
              "2           34.64         0.584   0.804   7.00    -6.094   1.0       0.0619   \n",
              "3           12.00         0.515   0.308   5.27   -14.711   1.0       0.0312   \n",
              "4           48.00         0.565   0.777   6.00    -5.096   0.0       0.2490   \n",
              "...           ...           ...     ...    ...       ...   ...          ...   \n",
              "14391       47.00         0.607   0.946   1.00    -2.965   1.0       0.1500   \n",
              "14392       27.00         0.435   0.951   8.00    -7.475   1.0       0.0576   \n",
              "14393       22.00         0.415   0.941  11.00    -4.300   1.0       0.0524   \n",
              "14394       37.00         0.493   0.986   1.00    -2.279   1.0       0.0917   \n",
              "14395       50.00         0.799   0.345  10.00   -11.520   1.0       0.0276   \n",
              "\n",
              "       acousticness  instrumentalness  liveness  valence    tempo  \\\n",
              "0          0.378000          0.061909    0.1060    0.235  152.429   \n",
              "1          0.027200          0.046800    0.1040    0.380  132.921   \n",
              "2          0.000968          0.635000    0.2840    0.635  159.953   \n",
              "3          0.907000          0.021300    0.3000    0.501  172.472   \n",
              "4          0.183000          0.015263    0.2110    0.619   88.311   \n",
              "...             ...               ...       ...      ...      ...   \n",
              "14391      0.005480          0.000390    0.2780    0.653  120.011   \n",
              "14392      0.000005          0.550000    0.0952    0.203  135.034   \n",
              "14393      0.001810          0.000004    0.3370    0.572  167.978   \n",
              "14394      0.000967          0.006620    0.1230    0.567  122.036   \n",
              "14395      0.748000          0.000024    0.1690    0.776   90.417   \n",
              "\n",
              "       duration_in min/ms  time_signature  Class  \n",
              "0           204947.000000             4.0    9.0  \n",
              "1           191956.000000             4.0    6.0  \n",
              "2           161037.000000             4.0   10.0  \n",
              "3           298093.000000             3.0    2.0  \n",
              "4           254145.000000             4.0    5.0  \n",
              "...                   ...             ...    ...  \n",
              "14391       195181.000000             4.0   10.0  \n",
              "14392       282043.000000             4.0    8.0  \n",
              "14393       176529.000000             4.0   10.0  \n",
              "14394       186307.000000             4.0   10.0  \n",
              "14395            2.614567             4.0    4.0  \n",
              "\n",
              "[14396 rows x 15 columns]"
            ],
            "text/html": [
              "\n",
              "  <div id=\"df-e5d44bb7-8b40-408b-913f-1b60d7592267\">\n",
              "    <div class=\"colab-df-container\">\n",
              "      <div>\n",
              "<style scoped>\n",
              "    .dataframe tbody tr th:only-of-type {\n",
              "        vertical-align: middle;\n",
              "    }\n",
              "\n",
              "    .dataframe tbody tr th {\n",
              "        vertical-align: top;\n",
              "    }\n",
              "\n",
              "    .dataframe thead th {\n",
              "        text-align: right;\n",
              "    }\n",
              "</style>\n",
              "<table border=\"1\" class=\"dataframe\">\n",
              "  <thead>\n",
              "    <tr style=\"text-align: right;\">\n",
              "      <th></th>\n",
              "      <th>Popularity</th>\n",
              "      <th>danceability</th>\n",
              "      <th>energy</th>\n",
              "      <th>key</th>\n",
              "      <th>loudness</th>\n",
              "      <th>mode</th>\n",
              "      <th>speechiness</th>\n",
              "      <th>acousticness</th>\n",
              "      <th>instrumentalness</th>\n",
              "      <th>liveness</th>\n",
              "      <th>valence</th>\n",
              "      <th>tempo</th>\n",
              "      <th>duration_in min/ms</th>\n",
              "      <th>time_signature</th>\n",
              "      <th>Class</th>\n",
              "    </tr>\n",
              "  </thead>\n",
              "  <tbody>\n",
              "    <tr>\n",
              "      <th>0</th>\n",
              "      <td>37.00</td>\n",
              "      <td>0.334</td>\n",
              "      <td>0.536</td>\n",
              "      <td>9.00</td>\n",
              "      <td>-6.649</td>\n",
              "      <td>0.0</td>\n",
              "      <td>0.0381</td>\n",
              "      <td>0.378000</td>\n",
              "      <td>0.061909</td>\n",
              "      <td>0.1060</td>\n",
              "      <td>0.235</td>\n",
              "      <td>152.429</td>\n",
              "      <td>204947.000000</td>\n",
              "      <td>4.0</td>\n",
              "      <td>9.0</td>\n",
              "    </tr>\n",
              "    <tr>\n",
              "      <th>1</th>\n",
              "      <td>67.00</td>\n",
              "      <td>0.725</td>\n",
              "      <td>0.747</td>\n",
              "      <td>11.00</td>\n",
              "      <td>-5.545</td>\n",
              "      <td>1.0</td>\n",
              "      <td>0.0876</td>\n",
              "      <td>0.027200</td>\n",
              "      <td>0.046800</td>\n",
              "      <td>0.1040</td>\n",
              "      <td>0.380</td>\n",
              "      <td>132.921</td>\n",
              "      <td>191956.000000</td>\n",
              "      <td>4.0</td>\n",
              "      <td>6.0</td>\n",
              "    </tr>\n",
              "    <tr>\n",
              "      <th>2</th>\n",
              "      <td>34.64</td>\n",
              "      <td>0.584</td>\n",
              "      <td>0.804</td>\n",
              "      <td>7.00</td>\n",
              "      <td>-6.094</td>\n",
              "      <td>1.0</td>\n",
              "      <td>0.0619</td>\n",
              "      <td>0.000968</td>\n",
              "      <td>0.635000</td>\n",
              "      <td>0.2840</td>\n",
              "      <td>0.635</td>\n",
              "      <td>159.953</td>\n",
              "      <td>161037.000000</td>\n",
              "      <td>4.0</td>\n",
              "      <td>10.0</td>\n",
              "    </tr>\n",
              "    <tr>\n",
              "      <th>3</th>\n",
              "      <td>12.00</td>\n",
              "      <td>0.515</td>\n",
              "      <td>0.308</td>\n",
              "      <td>5.27</td>\n",
              "      <td>-14.711</td>\n",
              "      <td>1.0</td>\n",
              "      <td>0.0312</td>\n",
              "      <td>0.907000</td>\n",
              "      <td>0.021300</td>\n",
              "      <td>0.3000</td>\n",
              "      <td>0.501</td>\n",
              "      <td>172.472</td>\n",
              "      <td>298093.000000</td>\n",
              "      <td>3.0</td>\n",
              "      <td>2.0</td>\n",
              "    </tr>\n",
              "    <tr>\n",
              "      <th>4</th>\n",
              "      <td>48.00</td>\n",
              "      <td>0.565</td>\n",
              "      <td>0.777</td>\n",
              "      <td>6.00</td>\n",
              "      <td>-5.096</td>\n",
              "      <td>0.0</td>\n",
              "      <td>0.2490</td>\n",
              "      <td>0.183000</td>\n",
              "      <td>0.015263</td>\n",
              "      <td>0.2110</td>\n",
              "      <td>0.619</td>\n",
              "      <td>88.311</td>\n",
              "      <td>254145.000000</td>\n",
              "      <td>4.0</td>\n",
              "      <td>5.0</td>\n",
              "    </tr>\n",
              "    <tr>\n",
              "      <th>...</th>\n",
              "      <td>...</td>\n",
              "      <td>...</td>\n",
              "      <td>...</td>\n",
              "      <td>...</td>\n",
              "      <td>...</td>\n",
              "      <td>...</td>\n",
              "      <td>...</td>\n",
              "      <td>...</td>\n",
              "      <td>...</td>\n",
              "      <td>...</td>\n",
              "      <td>...</td>\n",
              "      <td>...</td>\n",
              "      <td>...</td>\n",
              "      <td>...</td>\n",
              "      <td>...</td>\n",
              "    </tr>\n",
              "    <tr>\n",
              "      <th>14391</th>\n",
              "      <td>47.00</td>\n",
              "      <td>0.607</td>\n",
              "      <td>0.946</td>\n",
              "      <td>1.00</td>\n",
              "      <td>-2.965</td>\n",
              "      <td>1.0</td>\n",
              "      <td>0.1500</td>\n",
              "      <td>0.005480</td>\n",
              "      <td>0.000390</td>\n",
              "      <td>0.2780</td>\n",
              "      <td>0.653</td>\n",
              "      <td>120.011</td>\n",
              "      <td>195181.000000</td>\n",
              "      <td>4.0</td>\n",
              "      <td>10.0</td>\n",
              "    </tr>\n",
              "    <tr>\n",
              "      <th>14392</th>\n",
              "      <td>27.00</td>\n",
              "      <td>0.435</td>\n",
              "      <td>0.951</td>\n",
              "      <td>8.00</td>\n",
              "      <td>-7.475</td>\n",
              "      <td>1.0</td>\n",
              "      <td>0.0576</td>\n",
              "      <td>0.000005</td>\n",
              "      <td>0.550000</td>\n",
              "      <td>0.0952</td>\n",
              "      <td>0.203</td>\n",
              "      <td>135.034</td>\n",
              "      <td>282043.000000</td>\n",
              "      <td>4.0</td>\n",
              "      <td>8.0</td>\n",
              "    </tr>\n",
              "    <tr>\n",
              "      <th>14393</th>\n",
              "      <td>22.00</td>\n",
              "      <td>0.415</td>\n",
              "      <td>0.941</td>\n",
              "      <td>11.00</td>\n",
              "      <td>-4.300</td>\n",
              "      <td>1.0</td>\n",
              "      <td>0.0524</td>\n",
              "      <td>0.001810</td>\n",
              "      <td>0.000004</td>\n",
              "      <td>0.3370</td>\n",
              "      <td>0.572</td>\n",
              "      <td>167.978</td>\n",
              "      <td>176529.000000</td>\n",
              "      <td>4.0</td>\n",
              "      <td>10.0</td>\n",
              "    </tr>\n",
              "    <tr>\n",
              "      <th>14394</th>\n",
              "      <td>37.00</td>\n",
              "      <td>0.493</td>\n",
              "      <td>0.986</td>\n",
              "      <td>1.00</td>\n",
              "      <td>-2.279</td>\n",
              "      <td>1.0</td>\n",
              "      <td>0.0917</td>\n",
              "      <td>0.000967</td>\n",
              "      <td>0.006620</td>\n",
              "      <td>0.1230</td>\n",
              "      <td>0.567</td>\n",
              "      <td>122.036</td>\n",
              "      <td>186307.000000</td>\n",
              "      <td>4.0</td>\n",
              "      <td>10.0</td>\n",
              "    </tr>\n",
              "    <tr>\n",
              "      <th>14395</th>\n",
              "      <td>50.00</td>\n",
              "      <td>0.799</td>\n",
              "      <td>0.345</td>\n",
              "      <td>10.00</td>\n",
              "      <td>-11.520</td>\n",
              "      <td>1.0</td>\n",
              "      <td>0.0276</td>\n",
              "      <td>0.748000</td>\n",
              "      <td>0.000024</td>\n",
              "      <td>0.1690</td>\n",
              "      <td>0.776</td>\n",
              "      <td>90.417</td>\n",
              "      <td>2.614567</td>\n",
              "      <td>4.0</td>\n",
              "      <td>4.0</td>\n",
              "    </tr>\n",
              "  </tbody>\n",
              "</table>\n",
              "<p>14396 rows × 15 columns</p>\n",
              "</div>\n",
              "      <button class=\"colab-df-convert\" onclick=\"convertToInteractive('df-e5d44bb7-8b40-408b-913f-1b60d7592267')\"\n",
              "              title=\"Convert this dataframe to an interactive table.\"\n",
              "              style=\"display:none;\">\n",
              "        \n",
              "  <svg xmlns=\"http://www.w3.org/2000/svg\" height=\"24px\"viewBox=\"0 0 24 24\"\n",
              "       width=\"24px\">\n",
              "    <path d=\"M0 0h24v24H0V0z\" fill=\"none\"/>\n",
              "    <path d=\"M18.56 5.44l.94 2.06.94-2.06 2.06-.94-2.06-.94-.94-2.06-.94 2.06-2.06.94zm-11 1L8.5 8.5l.94-2.06 2.06-.94-2.06-.94L8.5 2.5l-.94 2.06-2.06.94zm10 10l.94 2.06.94-2.06 2.06-.94-2.06-.94-.94-2.06-.94 2.06-2.06.94z\"/><path d=\"M17.41 7.96l-1.37-1.37c-.4-.4-.92-.59-1.43-.59-.52 0-1.04.2-1.43.59L10.3 9.45l-7.72 7.72c-.78.78-.78 2.05 0 2.83L4 21.41c.39.39.9.59 1.41.59.51 0 1.02-.2 1.41-.59l7.78-7.78 2.81-2.81c.8-.78.8-2.07 0-2.86zM5.41 20L4 18.59l7.72-7.72 1.47 1.35L5.41 20z\"/>\n",
              "  </svg>\n",
              "      </button>\n",
              "      \n",
              "  <style>\n",
              "    .colab-df-container {\n",
              "      display:flex;\n",
              "      flex-wrap:wrap;\n",
              "      gap: 12px;\n",
              "    }\n",
              "\n",
              "    .colab-df-convert {\n",
              "      background-color: #E8F0FE;\n",
              "      border: none;\n",
              "      border-radius: 50%;\n",
              "      cursor: pointer;\n",
              "      display: none;\n",
              "      fill: #1967D2;\n",
              "      height: 32px;\n",
              "      padding: 0 0 0 0;\n",
              "      width: 32px;\n",
              "    }\n",
              "\n",
              "    .colab-df-convert:hover {\n",
              "      background-color: #E2EBFA;\n",
              "      box-shadow: 0px 1px 2px rgba(60, 64, 67, 0.3), 0px 1px 3px 1px rgba(60, 64, 67, 0.15);\n",
              "      fill: #174EA6;\n",
              "    }\n",
              "\n",
              "    [theme=dark] .colab-df-convert {\n",
              "      background-color: #3B4455;\n",
              "      fill: #D2E3FC;\n",
              "    }\n",
              "\n",
              "    [theme=dark] .colab-df-convert:hover {\n",
              "      background-color: #434B5C;\n",
              "      box-shadow: 0px 1px 3px 1px rgba(0, 0, 0, 0.15);\n",
              "      filter: drop-shadow(0px 1px 2px rgba(0, 0, 0, 0.3));\n",
              "      fill: #FFFFFF;\n",
              "    }\n",
              "  </style>\n",
              "\n",
              "      <script>\n",
              "        const buttonEl =\n",
              "          document.querySelector('#df-e5d44bb7-8b40-408b-913f-1b60d7592267 button.colab-df-convert');\n",
              "        buttonEl.style.display =\n",
              "          google.colab.kernel.accessAllowed ? 'block' : 'none';\n",
              "\n",
              "        async function convertToInteractive(key) {\n",
              "          const element = document.querySelector('#df-e5d44bb7-8b40-408b-913f-1b60d7592267');\n",
              "          const dataTable =\n",
              "            await google.colab.kernel.invokeFunction('convertToInteractive',\n",
              "                                                     [key], {});\n",
              "          if (!dataTable) return;\n",
              "\n",
              "          const docLinkHtml = 'Like what you see? Visit the ' +\n",
              "            '<a target=\"_blank\" href=https://colab.research.google.com/notebooks/data_table.ipynb>data table notebook</a>'\n",
              "            + ' to learn more about interactive tables.';\n",
              "          element.innerHTML = '';\n",
              "          dataTable['output_type'] = 'display_data';\n",
              "          await google.colab.output.renderOutput(dataTable, element);\n",
              "          const docLink = document.createElement('div');\n",
              "          docLink.innerHTML = docLinkHtml;\n",
              "          element.appendChild(docLink);\n",
              "        }\n",
              "      </script>\n",
              "    </div>\n",
              "  </div>\n",
              "  "
            ]
          },
          "metadata": {},
          "execution_count": 8
        }
      ]
    },
    {
      "cell_type": "code",
      "source": [
        "test=pd.DataFrame(imptr.fit_transform(test), columns = columns_name2)"
      ],
      "metadata": {
        "id": "OoMeUw5Qu1jf"
      },
      "execution_count": 9,
      "outputs": []
    },
    {
      "cell_type": "markdown",
      "source": [
        "Ensure that there are no null vallues using heatmap"
      ],
      "metadata": {
        "id": "4Q4KTXra1yDt"
      }
    },
    {
      "cell_type": "code",
      "source": [
        "sns.heatmap(train1.isnull(),yticklabels=False,cbar=False,cmap='viridis')"
      ],
      "metadata": {
        "colab": {
          "base_uri": "https://localhost:8080/",
          "height": 0
        },
        "id": "_-wVnzbpaf4M",
        "outputId": "e685cfc9-1406-424d-d8de-ed57637bab7f"
      },
      "execution_count": 10,
      "outputs": [
        {
          "output_type": "execute_result",
          "data": {
            "text/plain": [
              "<matplotlib.axes._subplots.AxesSubplot at 0x7f8ab04d8cd0>"
            ]
          },
          "metadata": {},
          "execution_count": 10
        },
        {
          "output_type": "display_data",
          "data": {
            "text/plain": [
              "<Figure size 432x288 with 1 Axes>"
            ],
            "image/png": "[encoded data removed]"
          },
          "metadata": {
            "needs_background": "light"
          }
        }
      ]
    },
    {
      "cell_type": "code",
      "source": [
        "sns.heatmap(test.isnull(),yticklabels=False,cbar=False,cmap='viridis')"
      ],
      "metadata": {
        "colab": {
          "base_uri": "https://localhost:8080/",
          "height": 0
        },
        "id": "VAI_i5dSvDAe",
        "outputId": "b73c4bbf-11c9-412b-b0e5-cbbd24f09155"
      },
      "execution_count": 11,
      "outputs": [
        {
          "output_type": "execute_result",
          "data": {
            "text/plain": [
              "<matplotlib.axes._subplots.AxesSubplot at 0x7f8ab09a3410>"
            ]
          },
          "metadata": {},
          "execution_count": 11
        },
        {
          "output_type": "display_data",
          "data": {
            "text/plain": [
              "<Figure size 432x288 with 1 Axes>"
            ],
            "image/png": "[encoded data removed]"
          },
          "metadata": {
            "needs_background": "light"
          }
        }
      ]
    },
    {
      "cell_type": "markdown",
      "source": [
        "## C- Splite the train to train and test for evalution"
      ],
      "metadata": {
        "id": "ucrJBxwPJ0OO"
      }
    },
    {
      "cell_type": "code",
      "source": [
        "X_train_ev, X_test_ev, y_train_ev, y_test_ev = train_test_split(train1.drop('Class',axis=1), \n",
        "                                                    train1['Class'], test_size=0.40, \n",
        "                                                    random_state=101)"
      ],
      "metadata": {
        "id": "Bue2usQP-7jZ"
      },
      "execution_count": 12,
      "outputs": []
    },
    {
      "cell_type": "code",
      "source": [
        "X_train=train1.drop('Class',axis=1)\n",
        "Y_train=train1['Class']"
      ],
      "metadata": {
        "id": "V6H_jBaH-8mw"
      },
      "execution_count": 13,
      "outputs": []
    },
    {
      "cell_type": "markdown",
      "source": [
        "\n",
        "## D- Feature Scaling"
      ],
      "metadata": {
        "id": "M_Fb6jAr_OuH"
      }
    },
    {
      "cell_type": "markdown",
      "source": [
        "Using StandardScaler for feature scaling\n"
      ],
      "metadata": {
        "id": "7XdS7SDV2N9_"
      }
    },
    {
      "cell_type": "code",
      "source": [
        "\n",
        "Standar_scaler=StandardScaler()\n",
        "X_train=Standar_scaler.fit_transform(X_train)\n",
        "test=Standar_scaler.fit_transform(test)\n",
        "X_train=pd.DataFrame(X_train,columns=columns_name2)\n",
        "test=pd.DataFrame(test,columns=columns_name2)"
      ],
      "metadata": {
        "id": "yHggP2i5_fhG"
      },
      "execution_count": 14,
      "outputs": []
    },
    {
      "cell_type": "code",
      "source": [
        "Standar_scaler=StandardScaler()\n",
        "X_train_ev=Standar_scaler.fit_transform(X_train_ev)\n",
        "X_test_ev=Standar_scaler.fit_transform(X_test_ev)\n",
        "X_train_ev=pd.DataFrame(X_train_ev,columns=columns_name2)\n",
        "X_test_ev=pd.DataFrame(X_test_ev,columns=columns_name2)"
      ],
      "metadata": {
        "id": "ZK0ZVSkapj_2"
      },
      "execution_count": 15,
      "outputs": []
    },
    {
      "cell_type": "markdown",
      "source": [
        "---\n",
        "\n",
        "#4- Select and Train a Model\n",
        "\n",
        "---\n"
      ],
      "metadata": {
        "id": "n57_4d6sy1fA"
      }
    },
    {
      "cell_type": "markdown",
      "source": [
        "Building pipelines of model for various classifiers"
      ],
      "metadata": {
        "id": "sS5uMW2s5IYe"
      }
    },
    {
      "cell_type": "code",
      "source": [
        "pipeline_RF=Pipeline([(\"rf_clf\",RandomForestClassifier(random_state=32))])\n",
        "pipeline_SVM=Pipeline([(\"svm_clf\",SVC(random_state=32))])\n",
        "pipeline_KNN=Pipeline([(\"rf_clf\",KNeighborsClassifier())])\n",
        "pipeline_GredB=Pipeline([(\"GredB_clf\",GradientBoostingClassifier(random_state=32))])\n",
        "pipeline_XGB=Pipeline([(\"XGB_clf\",xgboost.XGBClassifier( random_state=42))])\n",
        "\n",
        "# List of all the pipelines\n",
        "pipelines = [pipeline_RF, pipeline_SVM, pipeline_KNN, pipeline_GredB, pipeline_XGB]\n",
        "\n",
        "# List of the model names\n",
        "pipe_dict = [\"RandomForest\", \"Support Vector Machine classifiers\",\"KNeighbors\" , \"GradientBoostingClassifier\", \"xgboost.XGBClassifier\"]"
      ],
      "metadata": {
        "id": "TVpYq4ur5mbN"
      },
      "execution_count": 55,
      "outputs": []
    },
    {
      "cell_type": "code",
      "source": [
        "pipeline_RF=Pipeline([(\"rf_clf\",RandomForestClassifier(max_features= 'sqrt', n_estimators= 1000,random_state=32))])\n",
        "pipeline_SVM=Pipeline([(\"svm_clf\",SVC(probability=True,C= 10, kernel= 'rbf',gamma=\"scale\",random_state=32))])\n",
        "pipeline_KNN=Pipeline([(\"rf_clf\",KNeighborsClassifier(n_neighbors=14,weights='uniform',metric='manhattan'))])\n",
        "pipeline_GredB=Pipeline([(\"GredB_clf\",GradientBoostingClassifier(max_depth=1, n_estimators=100, learning_rate=0.4, random_state=32))])\n",
        "pipeline_XGB=Pipeline([(\"XGB_clf\",xgboost.XGBClassifier(max_depth=1,\n",
        "                                                        n_estimators=99, learning_rate=0.55, random_state=42,use_label_encoder=False,eval_metric='logloss'))])\n",
        "\n",
        "pipelines = [pipeline_RF, pipeline_SVM, pipeline_KNN, pipeline_GredB, pipeline_XGB]\n",
        "\n",
        "pipe_dict = [\"RandomForest\", \"Support Vector Machine classifiers\",\"KNeighbors\" , \"GradientBoostingClassifier\", \"xgboost.XGBClassifier\"]"
      ],
      "metadata": {
        "id": "IPuGWUho1jlf"
      },
      "execution_count": 47,
      "outputs": []
    },
    {
      "cell_type": "markdown",
      "source": [
        "Fit  all  pipelines"
      ],
      "metadata": {
        "id": "vCharFOw6nQt"
      }
    },
    {
      "cell_type": "code",
      "source": [
        "for pipe in pipelines:\n",
        "    pipe.fit(X_train_ev,y_train_ev)"
      ],
      "metadata": {
        "id": "c0DifsHwdNgn"
      },
      "execution_count": 56,
      "outputs": []
    },
    {
      "cell_type": "markdown",
      "source": [
        "finding f1 score for each model"
      ],
      "metadata": {
        "id": "vG-HQZpV60qV"
      }
    },
    {
      "cell_type": "code",
      "source": [
        "clf_results_f1 = []\n",
        "for pipe in pipelines:\n",
        "    pred=pipe.predict(X_test_ev) \n",
        "    clf_results_f1.append(f1_score(y_test_ev,pred,average='weighted'))\n",
        "for i in range(0,5):\n",
        "    print(pipe_dict[i],':', clf_results_f1[i])"
      ],
      "metadata": {
        "colab": {
          "base_uri": "https://localhost:8080/"
        },
        "id": "EWnWgYvNbilJ",
        "outputId": "06b2b0a2-1d85-458a-afb8-6a5daf3a5ac3"
      },
      "execution_count": 57,
      "outputs": [
        {
          "output_type": "stream",
          "name": "stdout",
          "text": [
            "RandomForest : 0.4787201940384464\n",
            "Support Vector Machine classifiers : 0.4927539950660533\n",
            "KNeighbors : 0.42701868610259164\n",
            "GradientBoostingClassifier : 0.45898800402225226\n",
            "xgboost.XGBClassifier : 0.4299815915495496\n"
          ]
        }
      ]
    },
    {
      "cell_type": "markdown",
      "source": [
        "###Tune Hyperparameters"
      ],
      "metadata": {
        "id": "0lI4q81kOJtB"
      }
    },
    {
      "cell_type": "markdown",
      "source": [
        "appling grid search on RandomForestClassifier"
      ],
      "metadata": {
        "id": "gI8tud7KNVw_"
      }
    },
    {
      "cell_type": "code",
      "source": [
        "from sklearn.model_selection import RepeatedStratifiedKFold\n",
        "Rand_model=RandomForestClassifier(random_state=32)\n",
        "n_estimators = [10, 100, 1000]\n",
        "max_features = ['sqrt', 'log2']\n",
        "# define grid search\n",
        "grid = dict(n_estimators=n_estimators,max_features=max_features)\n",
        "cv = RepeatedStratifiedKFold(n_splits=10, n_repeats=3, random_state=1)\n",
        "grid_search = GridSearchCV(estimator=Rand_model, param_grid=grid, n_jobs=-1, cv=cv, scoring='f1_weighted',error_score=0)\n",
        "grid_result = grid_search.fit(X_train_ev,y_train_ev)"
      ],
      "metadata": {
        "colab": {
          "base_uri": "https://localhost:8080/"
        },
        "id": "XiP3ZAZEFqPY",
        "outputId": "be0826b0-675b-4d9d-8657-ed07efb8d530"
      },
      "execution_count": 16,
      "outputs": [
        {
          "output_type": "stream",
          "name": "stderr",
          "text": [
            "/usr/local/lib/python3.7/dist-packages/joblib/externals/loky/process_executor.py:705: UserWarning: A worker stopped while some jobs were given to the executor. This can be caused by a too short worker timeout or by a memory leak.\n",
            "  \"timeout or by a memory leak.\", UserWarning\n"
          ]
        }
      ]
    },
    {
      "cell_type": "code",
      "source": [
        "print(\"Best: %f using %s\" % (grid_result.best_score_, grid_result.best_params_))\n",
        "means = grid_result.cv_results_['mean_test_score']\n",
        "stds = grid_result.cv_results_['std_test_score']\n",
        "params = grid_result.cv_results_['params']\n",
        "for mean, stdev, param in zip(means, stds, params):\n",
        "    print(\"%f (%f) with: %r\" % (mean, stdev, param))"
      ],
      "metadata": {
        "id": "zpoHsC-G9JGs",
        "colab": {
          "base_uri": "https://localhost:8080/"
        },
        "outputId": "834cece3-7736-4b38-ee21-7fa0008f43b1"
      },
      "execution_count": 17,
      "outputs": [
        {
          "output_type": "stream",
          "name": "stdout",
          "text": [
            "Best: 0.498267 using {'max_features': 'sqrt', 'n_estimators': 1000}\n",
            "0.446917 (0.016902) with: {'max_features': 'sqrt', 'n_estimators': 10}\n",
            "0.491341 (0.016762) with: {'max_features': 'sqrt', 'n_estimators': 100}\n",
            "0.498267 (0.017358) with: {'max_features': 'sqrt', 'n_estimators': 1000}\n",
            "0.446917 (0.016902) with: {'max_features': 'log2', 'n_estimators': 10}\n",
            "0.491341 (0.016762) with: {'max_features': 'log2', 'n_estimators': 100}\n",
            "0.498267 (0.017358) with: {'max_features': 'log2', 'n_estimators': 1000}\n"
          ]
        }
      ]
    },
    {
      "cell_type": "markdown",
      "source": [
        "appling grid search on Support Vector Machine classifiers"
      ],
      "metadata": {
        "id": "jG_pmMLmNj64"
      }
    },
    {
      "cell_type": "code",
      "source": [
        "svm_clf=SVC()\n",
        "kernel = ['poly', 'rbf', 'sigmoid']\n",
        "C = [50, 10, 1.0, 0.1, 0.01]\n",
        "gamma = ['scale']\n",
        "# define grid search\n",
        "grid = dict(kernel=kernel,C=C,gamma=gamma)\n",
        "cv = RepeatedStratifiedKFold(n_splits=10, n_repeats=3, random_state=1)\n",
        "grid_search = GridSearchCV(estimator=svm_clf, param_grid=grid, n_jobs=-1, cv=cv, scoring='f1_weighted',error_score=0)\n",
        "grid_result = grid_search.fit(X_train_ev,y_train_ev)"
      ],
      "metadata": {
        "id": "qJp95U7RB-tl"
      },
      "execution_count": 18,
      "outputs": []
    },
    {
      "cell_type": "code",
      "source": [
        "print(\"Best: %f using %s\" % (grid_result.best_score_, grid_result.best_params_))\n",
        "means = grid_result.cv_results_['mean_test_score']\n",
        "stds = grid_result.cv_results_['std_test_score']\n",
        "params = grid_result.cv_results_['params']\n",
        "for mean, stdev, param in zip(means, stds, params):\n",
        "    print(\"%f (%f) with: %r\" % (mean, stdev, param))"
      ],
      "metadata": {
        "colab": {
          "base_uri": "https://localhost:8080/"
        },
        "id": "7RuJ85zOE-LG",
        "outputId": "9716bfac-1006-4165-831f-b73847839e2d"
      },
      "execution_count": 19,
      "outputs": [
        {
          "output_type": "stream",
          "name": "stdout",
          "text": [
            "Best: 0.483179 using {'C': 1.0, 'gamma': 'scale', 'kernel': 'rbf'}\n",
            "0.447709 (0.012999) with: {'C': 50, 'gamma': 'scale', 'kernel': 'poly'}\n",
            "0.449798 (0.015800) with: {'C': 50, 'gamma': 'scale', 'kernel': 'rbf'}\n",
            "0.331609 (0.018026) with: {'C': 50, 'gamma': 'scale', 'kernel': 'sigmoid'}\n",
            "0.465266 (0.014368) with: {'C': 10, 'gamma': 'scale', 'kernel': 'poly'}\n",
            "0.478987 (0.015658) with: {'C': 10, 'gamma': 'scale', 'kernel': 'rbf'}\n",
            "0.332045 (0.018515) with: {'C': 10, 'gamma': 'scale', 'kernel': 'sigmoid'}\n",
            "0.457501 (0.015657) with: {'C': 1.0, 'gamma': 'scale', 'kernel': 'poly'}\n",
            "0.483179 (0.013962) with: {'C': 1.0, 'gamma': 'scale', 'kernel': 'rbf'}\n",
            "0.348277 (0.015335) with: {'C': 1.0, 'gamma': 'scale', 'kernel': 'sigmoid'}\n",
            "0.371623 (0.013939) with: {'C': 0.1, 'gamma': 'scale', 'kernel': 'poly'}\n",
            "0.430578 (0.011525) with: {'C': 0.1, 'gamma': 'scale', 'kernel': 'rbf'}\n",
            "0.398321 (0.014466) with: {'C': 0.1, 'gamma': 'scale', 'kernel': 'sigmoid'}\n",
            "0.213308 (0.007023) with: {'C': 0.01, 'gamma': 'scale', 'kernel': 'poly'}\n",
            "0.149541 (0.003748) with: {'C': 0.01, 'gamma': 'scale', 'kernel': 'rbf'}\n",
            "0.193165 (0.005142) with: {'C': 0.01, 'gamma': 'scale', 'kernel': 'sigmoid'}\n"
          ]
        }
      ]
    },
    {
      "cell_type": "markdown",
      "source": [
        "appling grid search on KNeighborsClassifier"
      ],
      "metadata": {
        "id": "cUYn_K2FNvEB"
      }
    },
    {
      "cell_type": "code",
      "source": [
        "KNN_Clr=KNeighborsClassifier()\n",
        "n_neighbors = range(1, 21, 2)\n",
        "weights = ['uniform', 'distance']\n",
        "metric = ['euclidean', 'manhattan', 'minkowski']\n",
        "# define grid search\n",
        "grid = dict(n_neighbors=n_neighbors,weights=weights,metric=metric)\n",
        "cv = RepeatedStratifiedKFold(n_splits=10, n_repeats=3, random_state=1)\n",
        "grid_search = GridSearchCV(estimator=KNN_Clr, param_grid=grid, n_jobs=-1, cv=cv, scoring='f1_weighted',error_score=0)\n",
        "grid_result = grid_search.fit(X_train_ev,y_train_ev)"
      ],
      "metadata": {
        "id": "ySssDyLTFFiJ"
      },
      "execution_count": 20,
      "outputs": []
    },
    {
      "cell_type": "code",
      "source": [
        "print(\"Best: %f using %s\" % (grid_result.best_score_, grid_result.best_params_))\n",
        "means = grid_result.cv_results_['mean_test_score']\n",
        "stds = grid_result.cv_results_['std_test_score']\n",
        "params = grid_result.cv_results_['params']\n",
        "for mean, stdev, param in zip(means, stds, params):\n",
        "    print(\"%f (%f) with: %r\" % (mean, stdev, param))"
      ],
      "metadata": {
        "colab": {
          "base_uri": "https://localhost:8080/"
        },
        "id": "wppsh99XFFTH",
        "outputId": "2ece0bf2-113a-440e-c9c0-a348fec21f52"
      },
      "execution_count": 21,
      "outputs": [
        {
          "output_type": "stream",
          "name": "stdout",
          "text": [
            "Best: 0.461200 using {'metric': 'manhattan', 'n_neighbors': 19, 'weights': 'uniform'}\n",
            "0.368747 (0.014717) with: {'metric': 'euclidean', 'n_neighbors': 1, 'weights': 'uniform'}\n",
            "0.368747 (0.014717) with: {'metric': 'euclidean', 'n_neighbors': 1, 'weights': 'distance'}\n",
            "0.386406 (0.014699) with: {'metric': 'euclidean', 'n_neighbors': 3, 'weights': 'uniform'}\n",
            "0.387908 (0.014347) with: {'metric': 'euclidean', 'n_neighbors': 3, 'weights': 'distance'}\n",
            "0.420798 (0.013205) with: {'metric': 'euclidean', 'n_neighbors': 5, 'weights': 'uniform'}\n",
            "0.414364 (0.012513) with: {'metric': 'euclidean', 'n_neighbors': 5, 'weights': 'distance'}\n",
            "0.428069 (0.012976) with: {'metric': 'euclidean', 'n_neighbors': 7, 'weights': 'uniform'}\n",
            "0.417198 (0.014857) with: {'metric': 'euclidean', 'n_neighbors': 7, 'weights': 'distance'}\n",
            "0.438908 (0.014553) with: {'metric': 'euclidean', 'n_neighbors': 9, 'weights': 'uniform'}\n",
            "0.424913 (0.014179) with: {'metric': 'euclidean', 'n_neighbors': 9, 'weights': 'distance'}\n",
            "0.442739 (0.013686) with: {'metric': 'euclidean', 'n_neighbors': 11, 'weights': 'uniform'}\n",
            "0.430667 (0.014135) with: {'metric': 'euclidean', 'n_neighbors': 11, 'weights': 'distance'}\n",
            "0.444162 (0.014859) with: {'metric': 'euclidean', 'n_neighbors': 13, 'weights': 'uniform'}\n",
            "0.432430 (0.013856) with: {'metric': 'euclidean', 'n_neighbors': 13, 'weights': 'distance'}\n",
            "0.447581 (0.016203) with: {'metric': 'euclidean', 'n_neighbors': 15, 'weights': 'uniform'}\n",
            "0.433293 (0.015554) with: {'metric': 'euclidean', 'n_neighbors': 15, 'weights': 'distance'}\n",
            "0.448570 (0.017084) with: {'metric': 'euclidean', 'n_neighbors': 17, 'weights': 'uniform'}\n",
            "0.432565 (0.016844) with: {'metric': 'euclidean', 'n_neighbors': 17, 'weights': 'distance'}\n",
            "0.449719 (0.016402) with: {'metric': 'euclidean', 'n_neighbors': 19, 'weights': 'uniform'}\n",
            "0.434948 (0.015166) with: {'metric': 'euclidean', 'n_neighbors': 19, 'weights': 'distance'}\n",
            "0.378934 (0.013234) with: {'metric': 'manhattan', 'n_neighbors': 1, 'weights': 'uniform'}\n",
            "0.378934 (0.013234) with: {'metric': 'manhattan', 'n_neighbors': 1, 'weights': 'distance'}\n",
            "0.392268 (0.013176) with: {'metric': 'manhattan', 'n_neighbors': 3, 'weights': 'uniform'}\n",
            "0.396971 (0.014420) with: {'metric': 'manhattan', 'n_neighbors': 3, 'weights': 'distance'}\n",
            "0.428772 (0.012344) with: {'metric': 'manhattan', 'n_neighbors': 5, 'weights': 'uniform'}\n",
            "0.418297 (0.011220) with: {'metric': 'manhattan', 'n_neighbors': 5, 'weights': 'distance'}\n",
            "0.443135 (0.011132) with: {'metric': 'manhattan', 'n_neighbors': 7, 'weights': 'uniform'}\n",
            "0.428841 (0.012220) with: {'metric': 'manhattan', 'n_neighbors': 7, 'weights': 'distance'}\n",
            "0.450706 (0.012300) with: {'metric': 'manhattan', 'n_neighbors': 9, 'weights': 'uniform'}\n",
            "0.433938 (0.012606) with: {'metric': 'manhattan', 'n_neighbors': 9, 'weights': 'distance'}\n",
            "0.452637 (0.015046) with: {'metric': 'manhattan', 'n_neighbors': 11, 'weights': 'uniform'}\n",
            "0.438948 (0.013202) with: {'metric': 'manhattan', 'n_neighbors': 11, 'weights': 'distance'}\n",
            "0.459393 (0.014795) with: {'metric': 'manhattan', 'n_neighbors': 13, 'weights': 'uniform'}\n",
            "0.442428 (0.012092) with: {'metric': 'manhattan', 'n_neighbors': 13, 'weights': 'distance'}\n",
            "0.460364 (0.012492) with: {'metric': 'manhattan', 'n_neighbors': 15, 'weights': 'uniform'}\n",
            "0.443305 (0.011580) with: {'metric': 'manhattan', 'n_neighbors': 15, 'weights': 'distance'}\n",
            "0.459447 (0.011791) with: {'metric': 'manhattan', 'n_neighbors': 17, 'weights': 'uniform'}\n",
            "0.443786 (0.011425) with: {'metric': 'manhattan', 'n_neighbors': 17, 'weights': 'distance'}\n",
            "0.461200 (0.013837) with: {'metric': 'manhattan', 'n_neighbors': 19, 'weights': 'uniform'}\n",
            "0.444267 (0.013310) with: {'metric': 'manhattan', 'n_neighbors': 19, 'weights': 'distance'}\n",
            "0.368747 (0.014717) with: {'metric': 'minkowski', 'n_neighbors': 1, 'weights': 'uniform'}\n",
            "0.368747 (0.014717) with: {'metric': 'minkowski', 'n_neighbors': 1, 'weights': 'distance'}\n",
            "0.386406 (0.014699) with: {'metric': 'minkowski', 'n_neighbors': 3, 'weights': 'uniform'}\n",
            "0.387908 (0.014347) with: {'metric': 'minkowski', 'n_neighbors': 3, 'weights': 'distance'}\n",
            "0.420798 (0.013205) with: {'metric': 'minkowski', 'n_neighbors': 5, 'weights': 'uniform'}\n",
            "0.414364 (0.012513) with: {'metric': 'minkowski', 'n_neighbors': 5, 'weights': 'distance'}\n",
            "0.428069 (0.012976) with: {'metric': 'minkowski', 'n_neighbors': 7, 'weights': 'uniform'}\n",
            "0.417198 (0.014857) with: {'metric': 'minkowski', 'n_neighbors': 7, 'weights': 'distance'}\n",
            "0.438908 (0.014553) with: {'metric': 'minkowski', 'n_neighbors': 9, 'weights': 'uniform'}\n",
            "0.424913 (0.014179) with: {'metric': 'minkowski', 'n_neighbors': 9, 'weights': 'distance'}\n",
            "0.442739 (0.013686) with: {'metric': 'minkowski', 'n_neighbors': 11, 'weights': 'uniform'}\n",
            "0.430667 (0.014135) with: {'metric': 'minkowski', 'n_neighbors': 11, 'weights': 'distance'}\n",
            "0.444162 (0.014859) with: {'metric': 'minkowski', 'n_neighbors': 13, 'weights': 'uniform'}\n",
            "0.432430 (0.013856) with: {'metric': 'minkowski', 'n_neighbors': 13, 'weights': 'distance'}\n",
            "0.447581 (0.016203) with: {'metric': 'minkowski', 'n_neighbors': 15, 'weights': 'uniform'}\n",
            "0.433293 (0.015554) with: {'metric': 'minkowski', 'n_neighbors': 15, 'weights': 'distance'}\n",
            "0.448570 (0.017084) with: {'metric': 'minkowski', 'n_neighbors': 17, 'weights': 'uniform'}\n",
            "0.432565 (0.016844) with: {'metric': 'minkowski', 'n_neighbors': 17, 'weights': 'distance'}\n",
            "0.449719 (0.016402) with: {'metric': 'minkowski', 'n_neighbors': 19, 'weights': 'uniform'}\n",
            "0.434948 (0.015166) with: {'metric': 'minkowski', 'n_neighbors': 19, 'weights': 'distance'}\n"
          ]
        }
      ]
    },
    {
      "cell_type": "markdown",
      "source": [
        "repeat pipelines after Tune Hyperparameters"
      ],
      "metadata": {
        "id": "rwAcKO2SN2vB"
      }
    },
    {
      "cell_type": "code",
      "source": [
        "pipeline_RF1=Pipeline([(\"rf_clf\",RandomForestClassifier(max_features= 'sqrt', n_estimators= 1000,random_state=32))])\n",
        "pipeline_SVM1=Pipeline([(\"svm_clf\",SVC(probability=True,C= 1, kernel= 'rbf',gamma=\"scale\",random_state=32))])\n",
        "pipeline_KNN1=Pipeline([(\"rf_clf\",KNeighborsClassifier(n_neighbors=14,weights='uniform',metric='manhattan'))])\n",
        "pipeline_GredB1=Pipeline([(\"GredB_clf\",GradientBoostingClassifier())])\n",
        "pipeline_XGB1=Pipeline([(\"XGB_clf\",xgboost.XGBClassifier())])\n",
        "\n",
        "pipelines1 = [pipeline_RF1, pipeline_SVM1, pipeline_KNN1, pipeline_GredB1, pipeline_XGB1]\n",
        "\n",
        "pipe_dict = [\"RandomForest\", \"Support Vector Machine classifiers\",\"KNeighbors\" , \"GradientBoostingClassifier\", \"xgboost.XGBClassifier\"]"
      ],
      "metadata": {
        "id": "PEMqmuzqHa5v"
      },
      "execution_count": 22,
      "outputs": []
    },
    {
      "cell_type": "code",
      "source": [
        "for pipe in pipelines1:\n",
        "    pipe.fit(X_train_ev,y_train_ev)"
      ],
      "metadata": {
        "id": "MDiAU8wqIT9a"
      },
      "execution_count": 23,
      "outputs": []
    },
    {
      "cell_type": "code",
      "source": [
        "clf_results_f1 = []\n",
        "for pipe in pipelines1:\n",
        "    pred=pipe.predict(X_test_ev) \n",
        "    clf_results_f1.append(f1_score(y_test_ev,pred,average='weighted'))\n",
        "for i in range(0,5):\n",
        "    print(pipe_dict[i],':', clf_results_f1[i])"
      ],
      "metadata": {
        "colab": {
          "base_uri": "https://localhost:8080/"
        },
        "id": "21c3xPdeIXzI",
        "outputId": "41715714-11f4-4c23-d8a0-87729a07ba15"
      },
      "execution_count": 26,
      "outputs": [
        {
          "output_type": "stream",
          "name": "stdout",
          "text": [
            "RandomForest : 0.4818451179446411\n",
            "Support Vector Machine classifiers : 0.4932407753887613\n",
            "KNeighbors : 0.47056105097555556\n",
            "GradientBoostingClassifier : 0.4552708272883973\n",
            "xgboost.XGBClassifier : 0.42984713359812565\n"
          ]
        }
      ]
    },
    {
      "cell_type": "markdown",
      "source": [
        "### Voting Classifier"
      ],
      "metadata": {
        "id": "QQnrUqFPq36X"
      }
    },
    {
      "cell_type": "markdown",
      "source": [
        "hard voting classifier"
      ],
      "metadata": {
        "id": "5bknF64rrTf_"
      }
    },
    {
      "cell_type": "code",
      "source": [
        "rnd_clf = RandomForestClassifier(n_estimators=1000, random_state=32,max_features='sqrt')\n",
        "svm_clf = SVC(probability=True,C= 10, kernel= 'rbf',gamma=\"scale\",random_state=32)\n",
        "\n",
        "voting_clf_hard = VotingClassifier(\n",
        "    estimators=[ ('rf', rnd_clf), ('svc', svm_clf)],\n",
        "    voting='hard')"
      ],
      "metadata": {
        "id": "5L1cQcJQZN6t"
      },
      "execution_count": 97,
      "outputs": []
    },
    {
      "cell_type": "markdown",
      "source": [
        "fit the model and predict the class\n",
        "\n",
        "finding f1 score"
      ],
      "metadata": {
        "id": "mf_f4wTszuSi"
      }
    },
    {
      "cell_type": "code",
      "source": [
        "voting_clf_hard.fit(X_train_ev,y_train_ev)\n",
        "vot_pred=voting_clf_hard.predict(X_test_ev)\n",
        "f1_score(y_test_ev, vot_pred,average='weighted')"
      ],
      "metadata": {
        "colab": {
          "base_uri": "https://localhost:8080/"
        },
        "id": "J-5hXdjrbiBk",
        "outputId": "96654994-cc14-427b-90eb-1951c5221c98"
      },
      "execution_count": 98,
      "outputs": [
        {
          "output_type": "execute_result",
          "data": {
            "text/plain": [
              "0.48900139853864477"
            ]
          },
          "metadata": {},
          "execution_count": 98
        }
      ]
    },
    {
      "cell_type": "markdown",
      "source": [
        "soft voting classifier"
      ],
      "metadata": {
        "id": "rExwigXcrdkf"
      }
    },
    {
      "cell_type": "code",
      "source": [
        "rnd_clf = RandomForestClassifier(n_estimators=1000, random_state=32,max_features='sqrt')\n",
        "svm_clf = SVC(probability=True,C= 10, kernel= 'rbf',gamma=\"scale\",random_state=32)\n",
        "\n",
        "voting_clf_soft = VotingClassifier(\n",
        "    estimators=[ ('rf', rnd_clf), ('svc', svm_clf)],\n",
        "    voting='soft')"
      ],
      "metadata": {
        "id": "guS-hpxBZV-D"
      },
      "execution_count": 99,
      "outputs": []
    },
    {
      "cell_type": "markdown",
      "source": [
        "fit the model and predict the class\n",
        "\n",
        "finding f1 score"
      ],
      "metadata": {
        "id": "wkCk6P1W0Co6"
      }
    },
    {
      "cell_type": "code",
      "source": [
        "voting_clf_soft.fit(X_train_ev,y_train_ev)\n",
        "vot_pred=voting_clf_soft.predict(X_test_ev)\n",
        "f1_score(y_test_ev, vot_pred,average='weighted')"
      ],
      "metadata": {
        "colab": {
          "base_uri": "https://localhost:8080/"
        },
        "id": "orptw4aTbgFF",
        "outputId": "a4ae7106-7882-4448-e381-d7ff985f7ab4"
      },
      "execution_count": 100,
      "outputs": [
        {
          "output_type": "execute_result",
          "data": {
            "text/plain": [
              "0.49561746672880047"
            ]
          },
          "metadata": {},
          "execution_count": 100
        }
      ]
    },
    {
      "cell_type": "markdown",
      "source": [
        "soft voting is better than hard voting"
      ],
      "metadata": {
        "id": "MqADvj7aJrkF"
      }
    },
    {
      "cell_type": "markdown",
      "source": [
        "### Stacking Classifier"
      ],
      "metadata": {
        "id": "LnHTLUCarngl"
      }
    },
    {
      "cell_type": "code",
      "source": [
        "from sklearn.ensemble import StackingClassifier\n",
        "rnd_clf = RandomForestClassifier(n_estimators=1000, random_state=32,max_features='sqrt')\n",
        "svm_clf = SVC(probability=True,C= 10, kernel= 'rbf',gamma=\"scale\",random_state=32)\n",
        "\n",
        "estimators=[('svc', svm_clf), ('rf', rnd_clf)]\n",
        "clf = StackingClassifier(\n",
        "  estimators=estimators)"
      ],
      "metadata": {
        "id": "iV0uCi5qcXJ3"
      },
      "execution_count": 101,
      "outputs": []
    },
    {
      "cell_type": "markdown",
      "source": [
        "fit the model and predict the class\n",
        "\n",
        "finding f1 score"
      ],
      "metadata": {
        "id": "u7Dix3N3zr54"
      }
    },
    {
      "cell_type": "code",
      "source": [
        "clf.fit(X_train_ev,y_train_ev)\n",
        "clf_pred=clf.predict(X_test_ev)\n",
        "f1_score(y_test_ev, clf_pred,average='weighted')"
      ],
      "metadata": {
        "colab": {
          "base_uri": "https://localhost:8080/"
        },
        "id": "vufUh4wgcjdg",
        "outputId": "80097aed-43cd-41f3-9f48-8730f75bcf14"
      },
      "execution_count": 102,
      "outputs": [
        {
          "output_type": "stream",
          "name": "stderr",
          "text": [
            "/usr/local/lib/python3.7/dist-packages/sklearn/linear_model/_logistic.py:818: ConvergenceWarning: lbfgs failed to converge (status=1):\n",
            "STOP: TOTAL NO. of ITERATIONS REACHED LIMIT.\n",
            "\n",
            "Increase the number of iterations (max_iter) or scale the data as shown in:\n",
            "    https://scikit-learn.org/stable/modules/preprocessing.html\n",
            "Please also refer to the documentation for alternative solver options:\n",
            "    https://scikit-learn.org/stable/modules/linear_model.html#logistic-regression\n",
            "  extra_warning_msg=_LOGISTIC_SOLVER_CONVERGENCE_MSG,\n"
          ]
        },
        {
          "output_type": "execute_result",
          "data": {
            "text/plain": [
              "0.5122973823732109"
            ]
          },
          "metadata": {},
          "execution_count": 102
        }
      ]
    },
    {
      "cell_type": "markdown",
      "source": [
        "Make a predict on test data"
      ],
      "metadata": {
        "id": "QJPCqtps0ZdX"
      }
    },
    {
      "cell_type": "code",
      "source": [
        "clf.fit(X_train, Y_train)\n",
        "p=clf.predict(test)"
      ],
      "metadata": {
        "colab": {
          "base_uri": "https://localhost:8080/"
        },
        "id": "XITi2Z4NyZu2",
        "outputId": "d4d61dc9-303f-4bd9-ea00-d5789c302db3"
      },
      "execution_count": 103,
      "outputs": [
        {
          "output_type": "stream",
          "name": "stderr",
          "text": [
            "/usr/local/lib/python3.7/dist-packages/sklearn/linear_model/_logistic.py:818: ConvergenceWarning: lbfgs failed to converge (status=1):\n",
            "STOP: TOTAL NO. of ITERATIONS REACHED LIMIT.\n",
            "\n",
            "Increase the number of iterations (max_iter) or scale the data as shown in:\n",
            "    https://scikit-learn.org/stable/modules/preprocessing.html\n",
            "Please also refer to the documentation for alternative solver options:\n",
            "    https://scikit-learn.org/stable/modules/linear_model.html#logistic-regression\n",
            "  extra_warning_msg=_LOGISTIC_SOLVER_CONVERGENCE_MSG,\n"
          ]
        }
      ]
    },
    {
      "cell_type": "code",
      "source": [
        "p=p.astype(int)"
      ],
      "metadata": {
        "id": "zESaHdvfHszA"
      },
      "execution_count": 111,
      "outputs": []
    },
    {
      "cell_type": "markdown",
      "source": [
        "create data frame cconsists of id column and the predicted values (Class) column called my_clssifier"
      ],
      "metadata": {
        "id": "8Bc_QtAj0kNo"
      }
    },
    {
      "cell_type": "code",
      "source": [
        "my_clssifier = pd.DataFrame({'Id':id,'Class':p})"
      ],
      "metadata": {
        "id": "Mt6np2FEyfl3"
      },
      "execution_count": 112,
      "outputs": []
    },
    {
      "cell_type": "markdown",
      "source": [
        "Convert the my_clssifier DataFrame to csv file and save it."
      ],
      "metadata": {
        "id": "WWCyFWjy1yXv"
      }
    },
    {
      "cell_type": "code",
      "source": [
        "my_clssifier.to_csv('sub.csv',index=False)"
      ],
      "metadata": {
        "id": "wYSiu3mWyo-D"
      },
      "execution_count": 113,
      "outputs": []
    },
    {
      "cell_type": "markdown",
      "source": [
        "Take a look at the my_clssifier DataFrame using head() method"
      ],
      "metadata": {
        "id": "ddeArOrL19Vi"
      }
    },
    {
      "cell_type": "code",
      "source": [
        "my_clssifier.head()"
      ],
      "metadata": {
        "colab": {
          "base_uri": "https://localhost:8080/",
          "height": 206
        },
        "id": "zktSNl8JyqGX",
        "outputId": "aaeade14-849b-4221-d509-af71fa7576d6"
      },
      "execution_count": 114,
      "outputs": [
        {
          "output_type": "execute_result",
          "data": {
            "text/plain": [
              "      Id  Class\n",
              "0  14397      9\n",
              "1  14398      6\n",
              "2  14399      9\n",
              "3  14400     10\n",
              "4  14401      5"
            ],
            "text/html": [
              "\n",
              "  <div id=\"df-c52aace5-0fca-4c37-bff0-2cd998d0879b\">\n",
              "    <div class=\"colab-df-container\">\n",
              "      <div>\n",
              "<style scoped>\n",
              "    .dataframe tbody tr th:only-of-type {\n",
              "        vertical-align: middle;\n",
              "    }\n",
              "\n",
              "    .dataframe tbody tr th {\n",
              "        vertical-align: top;\n",
              "    }\n",
              "\n",
              "    .dataframe thead th {\n",
              "        text-align: right;\n",
              "    }\n",
              "</style>\n",
              "<table border=\"1\" class=\"dataframe\">\n",
              "  <thead>\n",
              "    <tr style=\"text-align: right;\">\n",
              "      <th></th>\n",
              "      <th>Id</th>\n",
              "      <th>Class</th>\n",
              "    </tr>\n",
              "  </thead>\n",
              "  <tbody>\n",
              "    <tr>\n",
              "      <th>0</th>\n",
              "      <td>14397</td>\n",
              "      <td>9</td>\n",
              "    </tr>\n",
              "    <tr>\n",
              "      <th>1</th>\n",
              "      <td>14398</td>\n",
              "      <td>6</td>\n",
              "    </tr>\n",
              "    <tr>\n",
              "      <th>2</th>\n",
              "      <td>14399</td>\n",
              "      <td>9</td>\n",
              "    </tr>\n",
              "    <tr>\n",
              "      <th>3</th>\n",
              "      <td>14400</td>\n",
              "      <td>10</td>\n",
              "    </tr>\n",
              "    <tr>\n",
              "      <th>4</th>\n",
              "      <td>14401</td>\n",
              "      <td>5</td>\n",
              "    </tr>\n",
              "  </tbody>\n",
              "</table>\n",
              "</div>\n",
              "      <button class=\"colab-df-convert\" onclick=\"convertToInteractive('df-c52aace5-0fca-4c37-bff0-2cd998d0879b')\"\n",
              "              title=\"Convert this dataframe to an interactive table.\"\n",
              "              style=\"display:none;\">\n",
              "        \n",
              "  <svg xmlns=\"http://www.w3.org/2000/svg\" height=\"24px\"viewBox=\"0 0 24 24\"\n",
              "       width=\"24px\">\n",
              "    <path d=\"M0 0h24v24H0V0z\" fill=\"none\"/>\n",
              "    <path d=\"M18.56 5.44l.94 2.06.94-2.06 2.06-.94-2.06-.94-.94-2.06-.94 2.06-2.06.94zm-11 1L8.5 8.5l.94-2.06 2.06-.94-2.06-.94L8.5 2.5l-.94 2.06-2.06.94zm10 10l.94 2.06.94-2.06 2.06-.94-2.06-.94-.94-2.06-.94 2.06-2.06.94z\"/><path d=\"M17.41 7.96l-1.37-1.37c-.4-.4-.92-.59-1.43-.59-.52 0-1.04.2-1.43.59L10.3 9.45l-7.72 7.72c-.78.78-.78 2.05 0 2.83L4 21.41c.39.39.9.59 1.41.59.51 0 1.02-.2 1.41-.59l7.78-7.78 2.81-2.81c.8-.78.8-2.07 0-2.86zM5.41 20L4 18.59l7.72-7.72 1.47 1.35L5.41 20z\"/>\n",
              "  </svg>\n",
              "      </button>\n",
              "      \n",
              "  <style>\n",
              "    .colab-df-container {\n",
              "      display:flex;\n",
              "      flex-wrap:wrap;\n",
              "      gap: 12px;\n",
              "    }\n",
              "\n",
              "    .colab-df-convert {\n",
              "      background-color: #E8F0FE;\n",
              "      border: none;\n",
              "      border-radius: 50%;\n",
              "      cursor: pointer;\n",
              "      display: none;\n",
              "      fill: #1967D2;\n",
              "      height: 32px;\n",
              "      padding: 0 0 0 0;\n",
              "      width: 32px;\n",
              "    }\n",
              "\n",
              "    .colab-df-convert:hover {\n",
              "      background-color: #E2EBFA;\n",
              "      box-shadow: 0px 1px 2px rgba(60, 64, 67, 0.3), 0px 1px 3px 1px rgba(60, 64, 67, 0.15);\n",
              "      fill: #174EA6;\n",
              "    }\n",
              "\n",
              "    [theme=dark] .colab-df-convert {\n",
              "      background-color: #3B4455;\n",
              "      fill: #D2E3FC;\n",
              "    }\n",
              "\n",
              "    [theme=dark] .colab-df-convert:hover {\n",
              "      background-color: #434B5C;\n",
              "      box-shadow: 0px 1px 3px 1px rgba(0, 0, 0, 0.15);\n",
              "      filter: drop-shadow(0px 1px 2px rgba(0, 0, 0, 0.3));\n",
              "      fill: #FFFFFF;\n",
              "    }\n",
              "  </style>\n",
              "\n",
              "      <script>\n",
              "        const buttonEl =\n",
              "          document.querySelector('#df-c52aace5-0fca-4c37-bff0-2cd998d0879b button.colab-df-convert');\n",
              "        buttonEl.style.display =\n",
              "          google.colab.kernel.accessAllowed ? 'block' : 'none';\n",
              "\n",
              "        async function convertToInteractive(key) {\n",
              "          const element = document.querySelector('#df-c52aace5-0fca-4c37-bff0-2cd998d0879b');\n",
              "          const dataTable =\n",
              "            await google.colab.kernel.invokeFunction('convertToInteractive',\n",
              "                                                     [key], {});\n",
              "          if (!dataTable) return;\n",
              "\n",
              "          const docLinkHtml = 'Like what you see? Visit the ' +\n",
              "            '<a target=\"_blank\" href=https://colab.research.google.com/notebooks/data_table.ipynb>data table notebook</a>'\n",
              "            + ' to learn more about interactive tables.';\n",
              "          element.innerHTML = '';\n",
              "          dataTable['output_type'] = 'display_data';\n",
              "          await google.colab.output.renderOutput(dataTable, element);\n",
              "          const docLink = document.createElement('div');\n",
              "          docLink.innerHTML = docLinkHtml;\n",
              "          element.appendChild(docLink);\n",
              "        }\n",
              "      </script>\n",
              "    </div>\n",
              "  </div>\n",
              "  "
            ]
          },
          "metadata": {},
          "execution_count": 114
        }
      ]
    }
  ]
}